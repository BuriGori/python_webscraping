{
 "cells": [
  {
   "cell_type": "markdown",
   "id": "0ae3cf66-33f6-4f75-b111-565d9320075d",
   "metadata": {},
   "source": [
    "## Urllib을 사용한 파파고 번역 예제"
   ]
  },
  {
   "cell_type": "code",
   "execution_count": 3,
   "id": "b5a8fd69-16ba-422b-8edc-c6d8861d05a3",
   "metadata": {},
   "outputs": [
    {
     "name": "stdout",
     "output_type": "stream",
     "text": [
      "{\"message\":{\"@type\":\"response\",\"@service\":\"naverservice.nmt.proxy\",\"@version\":\"1.0.0\",\"result\":{\"srcLangType\":\"en\",\"tarLangType\":\"ko\",\"translatedText\":\"어제는 내 모든 고민이 너무 멀리 있는 것 같았어.\",\"engineType\":\"N2MT\",\"pivot\":null}}}\n"
     ]
    }
   ],
   "source": [
    "import os\n",
    "import sys\n",
    "import urllib.request\n",
    "\n",
    "\n",
    "client_id = \"\" # 개발자센터에서 발급받은 Client ID 값\n",
    "client_secret = \"\" # 개발자센터에서 발급받은 Client Secret 값\n",
    "encText = urllib.parse.quote(\"Yesterday all my troubles seemed so far away.\")\n",
    "data = \"source=en&target=ko&text=\" + encText\n",
    "url = \"https://openapi.naver.com/v1/papago/n2mt\"\n",
    "request = urllib.request.Request(url)\n",
    "request.add_header(\"X-Naver-Client-Id\",client_id)\n",
    "request.add_header(\"X-Naver-Client-Secret\",client_secret)\n",
    "response = urllib.request.urlopen(request, data=data.encode(\"utf-8\"))\n",
    "rescode = response.getcode()\n",
    "if(rescode==200):\n",
    "    response_body = response.read()\n",
    "    print(response_body.decode('utf-8'))\n",
    "else:\n",
    "    print(\"Error Code:\" + rescode)"
   ]
  },
  {
   "cell_type": "code",
   "execution_count": 4,
   "outputs": [
    {
     "name": "stdout",
     "output_type": "stream",
     "text": [
      "어제는 내 모든 고민이 너무 멀리 있는 것 같았어. 이제 그들은 여기 머물려고 온 것처럼 보인다. 오, 나는 어제를 다시 그리게 돼.  갑자기 나는 예전의 절반도 되지 않았다. 그림자가 드리워져 있어요. 아, 어제가 갑자기 왔네요.  왜 그녀가 가야만 했는지, 모르겠어요, 그녀는 말하려 하지 않았어요. 내가 잘못 말했는데, 어제가 그리워요.  어제는 사랑이 정말 쉬운 게임이었다. 이제 숨을 곳이 필요해 오, 나는 어제를 다시 그리게 돼.  왜 그녀가 가야만 했는지, 모르겠어요, 그녀는 말하려 하지 않았어요. 내가 잘못 말했는데, 어제가 그리워요.  어제는 사랑이 정말 쉬운 게임이었다. 이제 숨을 곳이 필요해 오, 나는 어제를 다시 그리게 돼.  mm mm mm mm mm mm\n"
     ]
    }
   ],
   "source": [
    "import requests\n",
    "\n",
    "client_id = \"\" # 개발자센터에서 발급받은 Client ID 값\n",
    "client_secret = \"\" # 개발자센터에서 발급받은 Client Secret 값\n",
    "url = \"https://openapi.naver.com/v1/papago/n2mt\"\n",
    "source_txt = \"Yesterday all my troubles seemed so far away.\"\n",
    "\n",
    "with open(\"./data/yesterday.txt\") as file:\n",
    "    line = file.readlines()\n",
    "temp = ' '.join(line)\n",
    "temp = temp.replace('\\n','')\n",
    "\n",
    "#요청 헤더\n",
    "req_header = {\"X-Naver-Client-Id\":client_id,\"X-Naver-Client-Secret\":client_secret}\n",
    "#요청 파라미터\n",
    "req_param = {\"source\":\"en\",\"target\":\"ko\",\"text\":temp}\n",
    "\n",
    "res = requests.post(url, headers=req_header, data=req_param)\n",
    "if res.ok:\n",
    "    # print(res.status_code, res.ok)\n",
    "    # print(res.json())\n",
    "    trans_txt = res.json()['message']['result']['translatedText']\n",
    "    print(trans_txt)\n",
    "else:\n",
    "    print('error code', res.status_code)"
   ],
   "metadata": {
    "collapsed": false,
    "pycharm": {
     "name": "#%%\n"
    }
   }
  },
  {
   "cell_type": "code",
   "execution_count": 8,
   "outputs": [
    {
     "name": "stdout",
     "output_type": "stream",
     "text": [
      "Our hearts for each other...\n",
      "If it's a small gathering in the universe,\n",
      "Even if these beautiful memories are scattered,\n",
      "It won't disappear.\n",
      "The wind that didn't fall asleep\n",
      "To your serenely shining sea\n",
      "It's locked in there.\n",
      "I can die, so I'm in your arms\n",
      "After a long night of your name,\n",
      "When the moment becomes eternity.\n",
      "How much I like you...\n",
      "I can see your voice on the moon.\n",
      "Through the colorful sky and the forest\n",
      "A flower called you blooms\n",
      "Even if you have half of the world,\n",
      "I just want to stay in front of you as a flower\n",
      "I'm just one guy.\n",
      "It's shining on me.\n",
      "Even if the darkness is over, it's blinding\n",
      "Even tears.\n",
      "Singing the miracle of a twinkling night.\n",
      "After a long night of your name,\n",
      "When the moment becomes eternity.\n",
      "How much I like you...\n",
      "I can see your voice on the moon.\n",
      "Through the colorful sky and the forest\n",
      "A flower called you blooms\n",
      "Even if you have half of the world,\n",
      "Just in front of you\n",
      "I'm just a man who wants to stay in a flower.\n",
      "Everything in the night sky\n",
      "I'm holding you in my dream falling above fate\n",
      "Hugging me one more time over time\n",
      "To the outside of the world where the light touches.\n",
      "The illustration of your deep smile in the ecstasy\n",
      "It will last forever.\n",
      "How much I want you.\n",
      "Even if I close my eyes, I meet you\n",
      "Following the falling melody of moonlight\n",
      "On a spring day heading to the wings of freedom\n",
      "Your only breath blows.\n"
     ]
    }
   ],
   "source": [
    "import requests\n",
    "\n",
    "client_id = \"\" # 개발자센터에서 발급받은 Client ID 값\n",
    "client_secret = \"\" # 개발자센터에서 발급받은 Client Secret 값\n",
    "url = \"https://openapi.naver.com/v1/papago/n2mt\"\n",
    "source_txt = \"Yesterday all my troubles seemed so far away.\"\n",
    "\n",
    "# with open(\"./data/kolyrics.txt\",encoding=\"UTF-8\") as file:\n",
    "#     line = file\n",
    "# temp = ' '.join(line)\n",
    "# temp = temp.replace('\\n','')\n",
    "file = open(\"./data/kolyrics.txt\",'r',encoding=\"UTF-8\")\n",
    "file = file.read()\n",
    "\n",
    "\n",
    "#요청 헤더\n",
    "req_header = {\"X-Naver-Client-Id\":client_id,\"X-Naver-Client-Secret\":client_secret}\n",
    "#요청 파라미터\n",
    "req_param = {\"source\":\"ko\",\"target\":\"en\",\"text\":file}\n",
    "\n",
    "res = requests.post(url, headers=req_header, data=req_param)\n",
    "if res.ok:\n",
    "    # print(res.status_code, res.ok)\n",
    "    # print(res.json())\n",
    "    trans_txt = res.json()['message']['result']['translatedText']\n",
    "    print(trans_txt)\n",
    "else:\n",
    "    print('error code', res.status_code)"
   ],
   "metadata": {
    "collapsed": false,
    "pycharm": {
     "name": "#%%\n"
    }
   }
  },
  {
   "cell_type": "code",
   "execution_count": 15,
   "outputs": [
    {
     "name": "stdout",
     "output_type": "stream",
     "text": [
      "-===-=-=\n"
     ]
    }
   ],
   "source": [
    "\n",
    "from requests import Request, Session\n",
    "client_id = \"\" # 개발자센터에서 발급받은 Client ID 값\n",
    "client_secret = \"\" # 개발자센터에서 발급받은 Client Secret 값\n",
    "url = \"https://openapi.naver.com/v1/papago/n2mt\"\n",
    "req_header = {\"X-Naver-Client-Id\":client_id,\"X-Naver-Client-Secret\":client_secret}\n",
    "\n",
    "def get_txt_file(path):\n",
    "    with open(path,'r', encoding=\"UTF-8\") as file:\n",
    "        contents = file.read()\n",
    "        result_list = contents.split(\"\\n\")\n",
    "    return result_list\n",
    "\n",
    "def save_to_file(my_list):\n",
    "    with open('./data/yesterday_trans.txt','w', encoding=\"UTF-8\") as file:\n",
    "        file.writelines(my_list)\n",
    "\n",
    "def main():\n",
    "    session = Session()\n",
    "    source_list = get_txt_file(\"./data/yesterday.txt\")\n",
    "    source_list = [source for source in source_list if len(source) != 0]\n",
    "    req_param = {\"source\":\"en\",\"target\":\"ko\"}\n",
    "    result_list=[]\n",
    "    for source_txt in source_list:\n",
    "        req_param['text']=source_txt\n",
    "        req = Request('POST', url, headers=req_header,data=req_param)\n",
    "        prepepped = req.prepare()\n",
    "        res = session.send(prepepped)\n",
    "        if res.ok:\n",
    "            try:\n",
    "                trans_txt = res.json()['message']['result']['translatedText']\n",
    "                # print(trans_txt)\n",
    "                result_list.append(source_txt+\"\\n\")\n",
    "                result_list.append(trans_txt+\"\\n\")\n",
    "            except Exception as ex:\n",
    "                print(\"Error\",res.status_code, ex)\n",
    "                break\n",
    "    save_to_file(result_list)\n",
    "    print(\"-===-=-=\")\n",
    "main()"
   ],
   "metadata": {
    "collapsed": false,
    "pycharm": {
     "name": "#%%\n"
    }
   }
  },
  {
   "cell_type": "code",
   "execution_count": null,
   "outputs": [],
   "source": [],
   "metadata": {
    "collapsed": false,
    "pycharm": {
     "name": "#%%\n"
    }
   }
  }
 ],
 "metadata": {
  "kernelspec": {
   "display_name": "Python 3 (ipykernel)",
   "language": "python",
   "name": "python3"
  },
  "language_info": {
   "codemirror_mode": {
    "name": "ipython",
    "version": 3
   },
   "file_extension": ".py",
   "mimetype": "text/x-python",
   "name": "python",
   "nbconvert_exporter": "python",
   "pygments_lexer": "ipython3",
   "version": "3.9.7"
  }
 },
 "nbformat": 4,
 "nbformat_minor": 5
}