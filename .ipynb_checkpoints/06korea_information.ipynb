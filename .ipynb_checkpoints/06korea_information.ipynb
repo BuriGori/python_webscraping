{
 "cells": [
  {
   "cell_type": "code",
   "execution_count": 3,
   "metadata": {
    "collapsed": true
   },
   "outputs": [
    {
     "name": "stdout",
     "output_type": "stream",
     "text": [
      "<class 'pandas.core.frame.DataFrame'>\n"
     ]
    }
   ],
   "source": [
    "import pandas as pd\n",
    "\n",
    "data = pd.read_csv(\"../data/data_draw_korea.csv\")\n",
    "print(type(data))"
   ]
  },
  {
   "cell_type": "code",
   "execution_count": 14,
   "outputs": [
    {
     "data": {
      "text/plain": "    Unnamed: 0     인구수 shortName  x  y     면적   광역시도  행정구역\n0          141  615487      서울송파  8  6  33.90  서울특별시   송파구\n1          127  554709      서울강서  4  4  41.40  서울특별시   강서구\n2          132  547202      서울노원  6  1  35.44  서울특별시   노원구\n3          124  526157      서울강남  6  7  39.50  서울특별시   강남구\n4          128  484478      서울관악  5  6  29.60  서울특별시   관악구\n5          145  464236      서울은평  4  3  29.70  서울특별시   은평구\n6          142  453634      서울양천  4  5  17.40  서울특별시   양천구\n7          140  434061      서울성북  6  2  24.57  서울특별시   성북구\n8          125  432028      서울강동  8  5  24.60  서울특별시   강동구\n9          138  407416      서울서초  6  6  47.04  서울특별시   서초구\n10         130  401233      서울구로  4  7  20.11  서울특별시   구로구\n11         148  391655      서울중랑  8  4  18.50  서울특별시   중랑구\n12         135  383917      서울동작  5  5  16.36  서울특별시   동작구\n13         136  364232      서울마포  5  4  23.87  서울특별시   마포구\n14         143  351837     서울영등포  4  6  24.56  서울특별시  영등포구\n15         129  342909      서울광진  7  6  17.05  서울특별시   광진구\n16         134  342429     서울동대문  7  4  14.20  서울특별시  동대문구\n17         133  331682      서울도봉  5  1  20.80  서울특별시   도봉구\n18         126  310292      서울강북  5  2  23.60  서울특별시   강북구\n19         137  288543     서울서대문  5  3  17.60  서울특별시  서대문구\n20         139  279939      서울성동  7  5  16.85  서울특별시   성동구\n21         131  222566      서울금천  5  7  13.01  서울특별시   금천구\n22         144  208603      서울용산  6  5  21.87  서울특별시   용산구\n23         146  140595      서울종로  6  3  23.90  서울특별시   종로구\n24         147  114967      서울중구  6  4   9.96  서울특별시    중구",
      "text/html": "<div>\n<style scoped>\n    .dataframe tbody tr th:only-of-type {\n        vertical-align: middle;\n    }\n\n    .dataframe tbody tr th {\n        vertical-align: top;\n    }\n\n    .dataframe thead th {\n        text-align: right;\n    }\n</style>\n<table border=\"1\" class=\"dataframe\">\n  <thead>\n    <tr style=\"text-align: right;\">\n      <th></th>\n      <th>Unnamed: 0</th>\n      <th>인구수</th>\n      <th>shortName</th>\n      <th>x</th>\n      <th>y</th>\n      <th>면적</th>\n      <th>광역시도</th>\n      <th>행정구역</th>\n    </tr>\n  </thead>\n  <tbody>\n    <tr>\n      <th>0</th>\n      <td>141</td>\n      <td>615487</td>\n      <td>서울송파</td>\n      <td>8</td>\n      <td>6</td>\n      <td>33.90</td>\n      <td>서울특별시</td>\n      <td>송파구</td>\n    </tr>\n    <tr>\n      <th>1</th>\n      <td>127</td>\n      <td>554709</td>\n      <td>서울강서</td>\n      <td>4</td>\n      <td>4</td>\n      <td>41.40</td>\n      <td>서울특별시</td>\n      <td>강서구</td>\n    </tr>\n    <tr>\n      <th>2</th>\n      <td>132</td>\n      <td>547202</td>\n      <td>서울노원</td>\n      <td>6</td>\n      <td>1</td>\n      <td>35.44</td>\n      <td>서울특별시</td>\n      <td>노원구</td>\n    </tr>\n    <tr>\n      <th>3</th>\n      <td>124</td>\n      <td>526157</td>\n      <td>서울강남</td>\n      <td>6</td>\n      <td>7</td>\n      <td>39.50</td>\n      <td>서울특별시</td>\n      <td>강남구</td>\n    </tr>\n    <tr>\n      <th>4</th>\n      <td>128</td>\n      <td>484478</td>\n      <td>서울관악</td>\n      <td>5</td>\n      <td>6</td>\n      <td>29.60</td>\n      <td>서울특별시</td>\n      <td>관악구</td>\n    </tr>\n    <tr>\n      <th>5</th>\n      <td>145</td>\n      <td>464236</td>\n      <td>서울은평</td>\n      <td>4</td>\n      <td>3</td>\n      <td>29.70</td>\n      <td>서울특별시</td>\n      <td>은평구</td>\n    </tr>\n    <tr>\n      <th>6</th>\n      <td>142</td>\n      <td>453634</td>\n      <td>서울양천</td>\n      <td>4</td>\n      <td>5</td>\n      <td>17.40</td>\n      <td>서울특별시</td>\n      <td>양천구</td>\n    </tr>\n    <tr>\n      <th>7</th>\n      <td>140</td>\n      <td>434061</td>\n      <td>서울성북</td>\n      <td>6</td>\n      <td>2</td>\n      <td>24.57</td>\n      <td>서울특별시</td>\n      <td>성북구</td>\n    </tr>\n    <tr>\n      <th>8</th>\n      <td>125</td>\n      <td>432028</td>\n      <td>서울강동</td>\n      <td>8</td>\n      <td>5</td>\n      <td>24.60</td>\n      <td>서울특별시</td>\n      <td>강동구</td>\n    </tr>\n    <tr>\n      <th>9</th>\n      <td>138</td>\n      <td>407416</td>\n      <td>서울서초</td>\n      <td>6</td>\n      <td>6</td>\n      <td>47.04</td>\n      <td>서울특별시</td>\n      <td>서초구</td>\n    </tr>\n    <tr>\n      <th>10</th>\n      <td>130</td>\n      <td>401233</td>\n      <td>서울구로</td>\n      <td>4</td>\n      <td>7</td>\n      <td>20.11</td>\n      <td>서울특별시</td>\n      <td>구로구</td>\n    </tr>\n    <tr>\n      <th>11</th>\n      <td>148</td>\n      <td>391655</td>\n      <td>서울중랑</td>\n      <td>8</td>\n      <td>4</td>\n      <td>18.50</td>\n      <td>서울특별시</td>\n      <td>중랑구</td>\n    </tr>\n    <tr>\n      <th>12</th>\n      <td>135</td>\n      <td>383917</td>\n      <td>서울동작</td>\n      <td>5</td>\n      <td>5</td>\n      <td>16.36</td>\n      <td>서울특별시</td>\n      <td>동작구</td>\n    </tr>\n    <tr>\n      <th>13</th>\n      <td>136</td>\n      <td>364232</td>\n      <td>서울마포</td>\n      <td>5</td>\n      <td>4</td>\n      <td>23.87</td>\n      <td>서울특별시</td>\n      <td>마포구</td>\n    </tr>\n    <tr>\n      <th>14</th>\n      <td>143</td>\n      <td>351837</td>\n      <td>서울영등포</td>\n      <td>4</td>\n      <td>6</td>\n      <td>24.56</td>\n      <td>서울특별시</td>\n      <td>영등포구</td>\n    </tr>\n    <tr>\n      <th>15</th>\n      <td>129</td>\n      <td>342909</td>\n      <td>서울광진</td>\n      <td>7</td>\n      <td>6</td>\n      <td>17.05</td>\n      <td>서울특별시</td>\n      <td>광진구</td>\n    </tr>\n    <tr>\n      <th>16</th>\n      <td>134</td>\n      <td>342429</td>\n      <td>서울동대문</td>\n      <td>7</td>\n      <td>4</td>\n      <td>14.20</td>\n      <td>서울특별시</td>\n      <td>동대문구</td>\n    </tr>\n    <tr>\n      <th>17</th>\n      <td>133</td>\n      <td>331682</td>\n      <td>서울도봉</td>\n      <td>5</td>\n      <td>1</td>\n      <td>20.80</td>\n      <td>서울특별시</td>\n      <td>도봉구</td>\n    </tr>\n    <tr>\n      <th>18</th>\n      <td>126</td>\n      <td>310292</td>\n      <td>서울강북</td>\n      <td>5</td>\n      <td>2</td>\n      <td>23.60</td>\n      <td>서울특별시</td>\n      <td>강북구</td>\n    </tr>\n    <tr>\n      <th>19</th>\n      <td>137</td>\n      <td>288543</td>\n      <td>서울서대문</td>\n      <td>5</td>\n      <td>3</td>\n      <td>17.60</td>\n      <td>서울특별시</td>\n      <td>서대문구</td>\n    </tr>\n    <tr>\n      <th>20</th>\n      <td>139</td>\n      <td>279939</td>\n      <td>서울성동</td>\n      <td>7</td>\n      <td>5</td>\n      <td>16.85</td>\n      <td>서울특별시</td>\n      <td>성동구</td>\n    </tr>\n    <tr>\n      <th>21</th>\n      <td>131</td>\n      <td>222566</td>\n      <td>서울금천</td>\n      <td>5</td>\n      <td>7</td>\n      <td>13.01</td>\n      <td>서울특별시</td>\n      <td>금천구</td>\n    </tr>\n    <tr>\n      <th>22</th>\n      <td>144</td>\n      <td>208603</td>\n      <td>서울용산</td>\n      <td>6</td>\n      <td>5</td>\n      <td>21.87</td>\n      <td>서울특별시</td>\n      <td>용산구</td>\n    </tr>\n    <tr>\n      <th>23</th>\n      <td>146</td>\n      <td>140595</td>\n      <td>서울종로</td>\n      <td>6</td>\n      <td>3</td>\n      <td>23.90</td>\n      <td>서울특별시</td>\n      <td>종로구</td>\n    </tr>\n    <tr>\n      <th>24</th>\n      <td>147</td>\n      <td>114967</td>\n      <td>서울중구</td>\n      <td>6</td>\n      <td>4</td>\n      <td>9.96</td>\n      <td>서울특별시</td>\n      <td>중구</td>\n    </tr>\n  </tbody>\n</table>\n</div>"
     },
     "execution_count": 14,
     "metadata": {},
     "output_type": "execute_result"
    }
   ],
   "source": [
    "# data.tail\n",
    "# data.sample(3) #랜덤으로 나옴\n",
    "# data.info\n",
    "# data.describe()\n",
    "# data['광역시도'].unique()\n",
    "#\n",
    "# print('인구수 최대값 ',data['인구수'].max())\n",
    "# print('인구수 최소값 ',data['인구수'].min())\n",
    "# print('인구수 평균값 ',data['인구수'].mean())\n",
    "# print('인구수 표준편차값 ',data['인구수'].std())\n",
    "\n",
    "data.loc[data['광역시도']=='서울특별시'].sort_values(by='인구수', ascending=False).reset_index(drop=True)"
   ],
   "metadata": {
    "collapsed": false,
    "pycharm": {
     "name": "#%%\n"
    }
   }
  },
  {
   "cell_type": "code",
   "execution_count": 23,
   "outputs": [
    {
     "name": "stdout",
     "output_type": "stream",
     "text": [
      "서울특별시의 평균 = 375792.28\n",
      "서울특별시의 표준편차 = 125231.24797500289\n",
      "강원도의 평균 = 79413.22222222222\n",
      "강원도의 표준편차 = 87316.38323837094\n",
      "경기도의 평균 = 378845.48387096776\n",
      "경기도의 표준편차 = 304548.39514203876\n"
     ]
    }
   ],
   "source": [
    "def chk(state_name):\n",
    "    print(f\"{state_name}의 평균 = {data.loc[data['광역시도']==state_name,'인구수'].mean()}\")\n",
    "    print(f\"{state_name}의 표준편차 = {data.loc[data['광역시도']==state_name,'인구수'].std()}\")\n",
    "\n",
    "chk(\"서울특별시\")\n",
    "chk(\"강원도\")\n",
    "chk(\"경기도\")"
   ],
   "metadata": {
    "collapsed": false,
    "pycharm": {
     "name": "#%%\n"
    }
   }
  }
 ],
 "metadata": {
  "kernelspec": {
   "display_name": "Python 3",
   "language": "python",
   "name": "python3"
  },
  "language_info": {
   "codemirror_mode": {
    "name": "ipython",
    "version": 2
   },
   "file_extension": ".py",
   "mimetype": "text/x-python",
   "name": "python",
   "nbconvert_exporter": "python",
   "pygments_lexer": "ipython2",
   "version": "2.7.6"
  }
 },
 "nbformat": 4,
 "nbformat_minor": 0
}