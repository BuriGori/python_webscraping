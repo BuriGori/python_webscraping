{
 "cells": [
  {
   "cell_type": "code",
   "execution_count": 3,
   "metadata": {
    "collapsed": true
   },
   "outputs": [
    {
     "name": "stdout",
     "output_type": "stream",
     "text": [
      "<class 'pandas.core.frame.DataFrame'>\n"
     ]
    }
   ],
   "source": [
    "import numpy as np\n",
    "import pandas as pd\n",
    "\n",
    "data = pd.read_csv(\"../data/data_draw_korea.csv\")\n",
    "print(type(data))"
   ]
  },
  {
   "cell_type": "code",
   "execution_count": null,
   "outputs": [],
   "source": [
    "# data.tail\n",
    "# data.sample(3) #랜덤으로 나옴\n",
    "# data.info\n",
    "# data.describe()\n",
    "# data['광역시도'].unique()\n",
    "#\n",
    "# print('인구수 최대값 ',data['인구수'].max())\n",
    "# print('인구수 최소값 ',data['인구수'].min())\n",
    "# print('인구수 평균값 ',data['인구수'].mean())\n",
    "# print('인구수 표준편차값 ',data['인구수'].std())\n",
    "\n",
    "data.loc[data['광역시도']=='서울특별시'].sort_values(by='인구수', ascending=False).reset_index(drop=True)"
   ],
   "metadata": {
    "collapsed": false,
    "pycharm": {
     "name": "#%%\n"
    }
   }
  },
  {
   "cell_type": "code",
   "execution_count": null,
   "outputs": [],
   "source": [
    "def chk(state_name):\n",
    "    print(f\"{state_name}의 평균 = {data.loc[data['광역시도']==state_name,'인구수'].mean()}\")\n",
    "    print(f\"{state_name}의 표준편차 = {data.loc[data['광역시도']==state_name,'인구수'].std()}\\n\")\n",
    "\n",
    "chk(\"서울특별시\")\n",
    "chk(\"강원도\")\n",
    "chk(\"경기도\")"
   ],
   "metadata": {
    "collapsed": false,
    "pycharm": {
     "name": "#%%\n"
    }
   }
  },
  {
   "cell_type": "code",
   "execution_count": null,
   "outputs": [],
   "source": [
    "data.loc[data['광역시도']=='경상북도',['행정구역','인구수','면적']].sort_values(by='인구수', ascending=False).reset_index(drop=True)"
   ],
   "metadata": {
    "collapsed": false,
    "pycharm": {
     "name": "#%%\n"
    }
   }
  },
  {
   "cell_type": "code",
   "execution_count": null,
   "outputs": [],
   "source": [
    "import pandas as pd\n",
    "\n",
    "peopleMean = (data['인구수']).mean()\n",
    "pop_mean_lt_df = data.loc[data['인구수']<peopleMean,'인구수':'행정구역'].sort_values(by='인구수').reset_index(drop=True)\n",
    "pop_mean_lt_df.to_excel('../data/평균인구수미만지역.xlsx')"
   ],
   "metadata": {
    "collapsed": false,
    "pycharm": {
     "name": "#%%\n"
    }
   }
  },
  {
   "cell_type": "code",
   "execution_count": null,
   "outputs": [],
   "source": [
    "data = data.rename(columns={'Unnamed: 0':'seq'})\n",
    "# data = data.set_index('seq')\n",
    "data.head()"
   ],
   "metadata": {
    "collapsed": false,
    "pycharm": {
     "name": "#%%\n"
    }
   }
  },
  {
   "cell_type": "code",
   "execution_count": null,
   "outputs": [],
   "source": [
    "data.loc[data['광역시도']=='경기도',['행정구역','인구수']].sort_values(by='인구수',ascending=False).head()"
   ],
   "metadata": {
    "collapsed": false,
    "pycharm": {
     "name": "#%%\n"
    }
   }
  },
  {
   "cell_type": "code",
   "execution_count": null,
   "outputs": [],
   "source": [
    "pop_max_value = data.loc[data['광역시도']=='경기도','인구수'].max()\n",
    "pop_max_value"
   ],
   "metadata": {
    "collapsed": false,
    "pycharm": {
     "name": "#%%\n"
    }
   }
  },
  {
   "cell_type": "code",
   "execution_count": null,
   "outputs": [],
   "source": [
    "tempdata = data.loc[(data['광역시도']=='경기도') &(data['인구수']==pop_max_value),['광역시도','행정구역','인구수']]\n",
    "tempdata"
   ],
   "metadata": {
    "collapsed": false,
    "pycharm": {
     "name": "#%%\n"
    }
   }
  },
  {
   "cell_type": "code",
   "execution_count": null,
   "outputs": [],
   "source": [
    "def Max_Place(name):\n",
    "    pop_max_value = data.loc[data['광역시도']==name,'인구수'].max()\n",
    "    # pop_max_value\n",
    "    result = data.loc[(data['광역시도']==name) &(data['인구수']==pop_max_value),['광역시도','행정구역','인구수']]\n",
    "    return result\n",
    "\n",
    "pop_max_value_df = pd.DataFrame(columns=['광역시도','행정구역','인구수'])\n",
    "for cur in data['광역시도'].unique():\n",
    "    pop_max_value_df = pop_max_value_df.append(Max_Place(cur))\n",
    "pop_max_value_df"
   ],
   "metadata": {
    "collapsed": false,
    "pycharm": {
     "name": "#%%\n"
    }
   }
  },
  {
   "cell_type": "code",
   "execution_count": null,
   "outputs": [],
   "source": [
    "def Max_Area(name):\n",
    "    pop_max_value = data.loc[data['광역시도']==name,'면적'].max()\n",
    "    # print(pop_max_value)\n",
    "    result = data.loc[(data['광역시도']==name) &(data['면적']==pop_max_value),['광역시도','행정구역','면적']]\n",
    "    return result\n",
    "\n",
    "pop_max_area_df = pd.DataFrame(columns=['광역시도','행정구역','면적'])\n",
    "for cur in data['광역시도'].unique():\n",
    "    pop_max_area_df = pop_max_area_df.append(Max_Area(cur))\n",
    "print(pop_max_area_df)"
   ],
   "metadata": {
    "collapsed": false,
    "pycharm": {
     "name": "#%%\n"
    }
   }
  },
  {
   "cell_type": "code",
   "execution_count": null,
   "outputs": [],
   "source": [
    "#전체행정구역의 면적과 인구수의 상관계수 구하기\n",
    "data['면적'].corr(data['인구수'])\n",
    "#서울특별시의 면적과 인구수의 상관계수 구하기\n",
    "seoul_df = data.loc[data['광역시도'] == '서울특별시']\n",
    "seoul_df['면적'].corr(seoul_df['인구수'])\n",
    "print(seoul_df)"
   ],
   "metadata": {
    "collapsed": false,
    "pycharm": {
     "name": "#%%\n"
    }
   }
  },
  {
   "cell_type": "code",
   "execution_count": null,
   "outputs": [],
   "source": [
    "print(type(data[\"행정구역\"]))\n",
    "print(type(data[[\"행정구역\",\"인구수\"]]))\n",
    "print(type(data.loc[0]))\n",
    "print(type(data.loc[0:2]))"
   ],
   "metadata": {
    "collapsed": false,
    "pycharm": {
     "name": "#%%\n"
    }
   }
  },
  {
   "cell_type": "code",
   "execution_count": null,
   "outputs": [],
   "source": [
    "data['인구수'].groupby(data['광역시도']).sum().sort_values(ascending=False)"
   ],
   "metadata": {
    "collapsed": false,
    "pycharm": {
     "name": "#%%\n"
    }
   }
  },
  {
   "cell_type": "code",
   "execution_count": null,
   "outputs": [],
   "source": [
    "data.groupby('광역시도')['인구수'].sum()"
   ],
   "metadata": {
    "collapsed": false,
    "pycharm": {
     "name": "#%%\n"
    }
   }
  },
  {
   "cell_type": "code",
   "execution_count": null,
   "outputs": [],
   "source": [
    "group_by_df = data.groupby(['광역시도','행정구역'])['인구수'].sum()\n",
    "group_by_df.to_excel('../data/광역시도별행정구역별인구수의합계.xlsx', sheet_name='인구수')"
   ],
   "metadata": {
    "collapsed": false,
    "pycharm": {
     "name": "#%%\n"
    }
   }
  },
  {
   "cell_type": "code",
   "execution_count": null,
   "outputs": [],
   "source": [
    "# Create a Pandas Excel writer using XlsxWriter as the engine.\n",
    "writer = pd.ExcelWriter('../data/광역시도별인구수의합계1.xlsx', engine='xlsxwriter')\n",
    "\n",
    "# Convert the dataframe to an XlsxWriter Excel object.\n",
    "group_by_df.to_excel(writer, sheet_name='인구수합계')\n",
    "\n",
    "# Get the xlsxwriter workbook and worksheet objects.\n",
    "workbook  = writer.book\n",
    "worksheet = writer.sheets['인구수합계']\n",
    "\n",
    "# Set a currency number format for a column.\n",
    "num_format = workbook.add_format({'num_format': '#,###'})\n",
    "worksheet.set_column('C:C', None, num_format)\n",
    "\n",
    "# Close the Pandas Excel writer and output the Excel file.\n",
    "writer.save()"
   ],
   "metadata": {
    "collapsed": false,
    "pycharm": {
     "name": "#%%\n"
    }
   }
  },
  {
   "cell_type": "code",
   "execution_count": null,
   "outputs": [],
   "source": [
    "group_agg_df = data.groupby('광역시도')['인구수'].agg(['max','mean','std']).fillna(0).sort_values(by='std',ascending=False)\n",
    "group_agg_df.head(3)"
   ],
   "metadata": {
    "collapsed": false,
    "pycharm": {
     "name": "#%%\n"
    }
   }
  },
  {
   "cell_type": "code",
   "execution_count": null,
   "outputs": [],
   "source": [
    "group_agg_df.style.format('{0:.2f}')"
   ],
   "metadata": {
    "collapsed": false,
    "pycharm": {
     "name": "#%%\n"
    }
   }
  },
  {
   "cell_type": "code",
   "execution_count": null,
   "outputs": [],
   "source": [
    "group_agg_df.T"
   ],
   "metadata": {
    "collapsed": false,
    "pycharm": {
     "name": "#%%\n"
    }
   }
  },
  {
   "cell_type": "code",
   "execution_count": null,
   "outputs": [],
   "source": [
    "%matplotlib inline"
   ],
   "metadata": {
    "collapsed": false,
    "pycharm": {
     "name": "#%%\n"
    }
   }
  },
  {
   "cell_type": "code",
   "execution_count": null,
   "outputs": [],
   "source": [
    "\n",
    "import matplotlib\n",
    "import matplotlib.pyplot as plt\n",
    "import matplotlib.font_manager as fm\n",
    "\n",
    "import seaborn as sns\n",
    "\n",
    "[(font.name, font.fname)for font in fm.fontManager.ttflist if 'Ma' in font.name] #맥북은 'Ap'"
   ],
   "metadata": {
    "collapsed": false,
    "pycharm": {
     "name": "#%%\n"
    }
   }
  },
  {
   "cell_type": "code",
   "execution_count": null,
   "outputs": [],
   "source": [
    "font_path = 'C:\\\\Windows\\\\Fonts\\\\malgun.ttf'\n",
    "font_prop = fm.FontProperties(fname=font_path).get_name()\n",
    "print(font_prop)\n",
    "matplotlib.rc('font',family = font_prop)"
   ],
   "metadata": {
    "collapsed": false,
    "pycharm": {
     "name": "#%%\n"
    }
   }
  },
  {
   "cell_type": "code",
   "execution_count": null,
   "outputs": [],
   "source": [
    "figure,(axes1, axes2) = plt.subplots(nrows=2, ncols=1)\n",
    "print(figure)\n",
    "print(axes1)\n",
    "print(axes2)\n",
    "sns.barplot(x='행정구역', y='인구수', data = seoul_df.sort_values(by='인구수', ascending=False), ax=axes1)\n",
    "sns.barplot(x='행정구역', y='면적', data = seoul_df.sort_values(by='면적', ascending=False), ax=axes2)"
   ],
   "metadata": {
    "collapsed": false,
    "pycharm": {
     "name": "#%%\n"
    }
   }
  },
  {
   "cell_type": "code",
   "execution_count": null,
   "outputs": [],
   "source": [
    "def name_graph(name):\n",
    "    temp = data.loc[data[\"광역시도\"]==name]\n",
    "    figure,(axes1, axes2) = plt.subplots(nrows=2, ncols=1)\n",
    "    print(figure)\n",
    "    print(axes1)\n",
    "    print(axes2)\n",
    "    sns.barplot(x='행정구역', y='인구수', data = temp.sort_values(by='인구수', ascending=False), ax=axes1)\n",
    "    sns.barplot(x='행정구역', y='면적', data = temp.sort_values(by='면적', ascending=False), ax=axes2)\n",
    "\n",
    "# for cur in data[\"광역시도\"].unique():\n",
    "#     name_graph(cur)"
   ],
   "metadata": {
    "collapsed": false,
    "pycharm": {
     "name": "#%%\n"
    }
   }
  },
  {
   "cell_type": "code",
   "execution_count": null,
   "outputs": [],
   "source": [
    "figure, axes1 = plt.subplots(nrows=1, ncols=1)\n",
    "figure.set_size_inches(18,12)\n",
    "sns.barplot(x='광역시도', y='인구수', data=data, ax=axes1)"
   ],
   "metadata": {
    "collapsed": false,
    "pycharm": {
     "name": "#%%\n"
    }
   }
  },
  {
   "cell_type": "code",
   "execution_count": null,
   "outputs": [],
   "source": [
    "figure, ax1 = plt.subplots(nrows=1, ncols=1)\n",
    "figure.set_size_inches(18,12)\n",
    "sns.barplot(data=seoul_df, x=\"행정구역\", y=\"인구수\", ax=ax1)\n",
    "ax1.get_yaxis().set_major_formatter(plt.FuncFormatter(lambda x, loc: \"{:,}\".format(int(x))))\n",
    "ax1.set(ylabel='인구수')\n",
    "for item in ax1.get_xticklabels():\n",
    "    item.set_rotation(90)\n",
    "for i, v in enumerate(seoul_df[\"인구수\"].iteritems()):\n",
    "    ax1.text(i ,v[1], \"{:,}\".format(v[1]), color='m', va ='bottom', rotation=45)\n",
    "plt.tight_layout()"
   ],
   "metadata": {
    "collapsed": false,
    "pycharm": {
     "name": "#%%\n"
    }
   }
  },
  {
   "cell_type": "code",
   "execution_count": 176,
   "outputs": [
    {
     "data": {
      "text/plain": "       광역시도      인구수       면적  행정구역\n1       강원도   313851   867.30   원주시\n2       강원도    62957  1817.94   홍천군\n3       경기도  1125461   121.09   수원시\n4       경기도    95614   877.08   양평군\n5      경상남도  1010040   734.87   창원시\n6      경상남도    42515   983.42   합천군\n7      경상북도   157317  1519.00   안동시\n8      경상북도   488395  1127.00   포항시\n9     광주광역시   389386   222.88   광산구\n10    광주광역시   439683   121.74    북구\n11    대구광역시   584517    62.30   달서구\n12    대구광역시   178203   427.03   달성군\n13    대전광역시   475094    95.25    서구\n14    대전광역시   321618   177.16   유성구\n15    부산광역시   142223   217.90   기장군\n16    부산광역시   397134    51.44  해운대구\n17    서울특별시   407416    47.04   서초구\n18    서울특별시   615487    33.90   송파구\n19  세종특별자치시   191233   465.23   세종시\n20    울산광역시   327270    72.11    남구\n21    울산광역시   203232   754.93   울주군\n22    인천광역시    58296   411.20   강화군\n23    인천광역시   527153    32.00   부평구\n24     전라남도   254751   907.35   순천시\n25     전라남도   263166   501.30   여수시\n26     전라북도    87465   821.00   완주군\n27     전라북도   630708   206.45   전주시\n28  제주특별자치도   430504   977.80   제주시\n29     충청남도   102371   940.71   공주시\n30     충청남도   584912   636.50   천안시\n31     충청북도   790216   932.51   청주시\n32     충청북도   198077   983.70   충주시",
      "text/html": "<div>\n<style scoped>\n    .dataframe tbody tr th:only-of-type {\n        vertical-align: middle;\n    }\n\n    .dataframe tbody tr th {\n        vertical-align: top;\n    }\n\n    .dataframe thead th {\n        text-align: right;\n    }\n</style>\n<table border=\"1\" class=\"dataframe\">\n  <thead>\n    <tr style=\"text-align: right;\">\n      <th></th>\n      <th>광역시도</th>\n      <th>인구수</th>\n      <th>면적</th>\n      <th>행정구역</th>\n    </tr>\n  </thead>\n  <tbody>\n    <tr>\n      <th>1</th>\n      <td>강원도</td>\n      <td>313851</td>\n      <td>867.30</td>\n      <td>원주시</td>\n    </tr>\n    <tr>\n      <th>2</th>\n      <td>강원도</td>\n      <td>62957</td>\n      <td>1817.94</td>\n      <td>홍천군</td>\n    </tr>\n    <tr>\n      <th>3</th>\n      <td>경기도</td>\n      <td>1125461</td>\n      <td>121.09</td>\n      <td>수원시</td>\n    </tr>\n    <tr>\n      <th>4</th>\n      <td>경기도</td>\n      <td>95614</td>\n      <td>877.08</td>\n      <td>양평군</td>\n    </tr>\n    <tr>\n      <th>5</th>\n      <td>경상남도</td>\n      <td>1010040</td>\n      <td>734.87</td>\n      <td>창원시</td>\n    </tr>\n    <tr>\n      <th>6</th>\n      <td>경상남도</td>\n      <td>42515</td>\n      <td>983.42</td>\n      <td>합천군</td>\n    </tr>\n    <tr>\n      <th>7</th>\n      <td>경상북도</td>\n      <td>157317</td>\n      <td>1519.00</td>\n      <td>안동시</td>\n    </tr>\n    <tr>\n      <th>8</th>\n      <td>경상북도</td>\n      <td>488395</td>\n      <td>1127.00</td>\n      <td>포항시</td>\n    </tr>\n    <tr>\n      <th>9</th>\n      <td>광주광역시</td>\n      <td>389386</td>\n      <td>222.88</td>\n      <td>광산구</td>\n    </tr>\n    <tr>\n      <th>10</th>\n      <td>광주광역시</td>\n      <td>439683</td>\n      <td>121.74</td>\n      <td>북구</td>\n    </tr>\n    <tr>\n      <th>11</th>\n      <td>대구광역시</td>\n      <td>584517</td>\n      <td>62.30</td>\n      <td>달서구</td>\n    </tr>\n    <tr>\n      <th>12</th>\n      <td>대구광역시</td>\n      <td>178203</td>\n      <td>427.03</td>\n      <td>달성군</td>\n    </tr>\n    <tr>\n      <th>13</th>\n      <td>대전광역시</td>\n      <td>475094</td>\n      <td>95.25</td>\n      <td>서구</td>\n    </tr>\n    <tr>\n      <th>14</th>\n      <td>대전광역시</td>\n      <td>321618</td>\n      <td>177.16</td>\n      <td>유성구</td>\n    </tr>\n    <tr>\n      <th>15</th>\n      <td>부산광역시</td>\n      <td>142223</td>\n      <td>217.90</td>\n      <td>기장군</td>\n    </tr>\n    <tr>\n      <th>16</th>\n      <td>부산광역시</td>\n      <td>397134</td>\n      <td>51.44</td>\n      <td>해운대구</td>\n    </tr>\n    <tr>\n      <th>17</th>\n      <td>서울특별시</td>\n      <td>407416</td>\n      <td>47.04</td>\n      <td>서초구</td>\n    </tr>\n    <tr>\n      <th>18</th>\n      <td>서울특별시</td>\n      <td>615487</td>\n      <td>33.90</td>\n      <td>송파구</td>\n    </tr>\n    <tr>\n      <th>19</th>\n      <td>세종특별자치시</td>\n      <td>191233</td>\n      <td>465.23</td>\n      <td>세종시</td>\n    </tr>\n    <tr>\n      <th>20</th>\n      <td>울산광역시</td>\n      <td>327270</td>\n      <td>72.11</td>\n      <td>남구</td>\n    </tr>\n    <tr>\n      <th>21</th>\n      <td>울산광역시</td>\n      <td>203232</td>\n      <td>754.93</td>\n      <td>울주군</td>\n    </tr>\n    <tr>\n      <th>22</th>\n      <td>인천광역시</td>\n      <td>58296</td>\n      <td>411.20</td>\n      <td>강화군</td>\n    </tr>\n    <tr>\n      <th>23</th>\n      <td>인천광역시</td>\n      <td>527153</td>\n      <td>32.00</td>\n      <td>부평구</td>\n    </tr>\n    <tr>\n      <th>24</th>\n      <td>전라남도</td>\n      <td>254751</td>\n      <td>907.35</td>\n      <td>순천시</td>\n    </tr>\n    <tr>\n      <th>25</th>\n      <td>전라남도</td>\n      <td>263166</td>\n      <td>501.30</td>\n      <td>여수시</td>\n    </tr>\n    <tr>\n      <th>26</th>\n      <td>전라북도</td>\n      <td>87465</td>\n      <td>821.00</td>\n      <td>완주군</td>\n    </tr>\n    <tr>\n      <th>27</th>\n      <td>전라북도</td>\n      <td>630708</td>\n      <td>206.45</td>\n      <td>전주시</td>\n    </tr>\n    <tr>\n      <th>28</th>\n      <td>제주특별자치도</td>\n      <td>430504</td>\n      <td>977.80</td>\n      <td>제주시</td>\n    </tr>\n    <tr>\n      <th>29</th>\n      <td>충청남도</td>\n      <td>102371</td>\n      <td>940.71</td>\n      <td>공주시</td>\n    </tr>\n    <tr>\n      <th>30</th>\n      <td>충청남도</td>\n      <td>584912</td>\n      <td>636.50</td>\n      <td>천안시</td>\n    </tr>\n    <tr>\n      <th>31</th>\n      <td>충청북도</td>\n      <td>790216</td>\n      <td>932.51</td>\n      <td>청주시</td>\n    </tr>\n    <tr>\n      <th>32</th>\n      <td>충청북도</td>\n      <td>198077</td>\n      <td>983.70</td>\n      <td>충주시</td>\n    </tr>\n  </tbody>\n</table>\n</div>"
     },
     "execution_count": 176,
     "metadata": {},
     "output_type": "execute_result"
    }
   ],
   "source": [
    "import numpy as np\n",
    "import pandas as pd\n",
    "\n",
    "def temp_method(name):\n",
    "    temp = data.loc[data['광역시도']==name]\n",
    "    max_people = temp['인구수'].max()\n",
    "    max_area = temp['면적'].max()\n",
    "\n",
    "    result = temp.loc[(temp['인구수'] == max_people) | (temp['면적'] == max_area),['광역시도','인구수','면적','행정구역']]\n",
    "    return result\n",
    "\n",
    "pop_max_place = pd.DataFrame(columns=['광역시도','인구수','면적','행정구역'])\n",
    "for cur in data['광역시도'].unique():\n",
    "    pop_max_place = pop_max_place.append(temp_method(cur))\n",
    "pop_max_place.index = np.arange(1,len(pop_max_place)+1)\n",
    "pop_max_place"
   ],
   "metadata": {
    "collapsed": false,
    "pycharm": {
     "name": "#%%\n"
    }
   }
  },
  {
   "cell_type": "code",
   "execution_count": 1,
   "outputs": [],
   "source": [
    "import warnings\n",
    "warnings.filterwarnings('ignore')"
   ],
   "metadata": {
    "collapsed": false,
    "pycharm": {
     "name": "#%%\n"
    }
   }
  },
  {
   "cell_type": "code",
   "execution_count": 6,
   "outputs": [
    {
     "data": {
      "text/plain": "       광역시도      상관계수\n0       강원도 -0.003425\n1       경기도 -0.215725\n2      경상남도  0.029952\n3      경상북도  0.205930\n4     광주광역시  0.676929\n5     대구광역시 -0.057946\n6     대전광역시  0.199716\n7     부산광역시 -0.138237\n8     서울특별시  0.664427\n9   세종특별자치시  0.000000\n10    울산광역시 -0.134357\n11    인천광역시 -0.457143\n12     전라남도 -0.057869\n13     전라북도 -0.695805\n14  제주특별자치도  1.000000\n15     충청남도  0.272964\n16     충청북도  0.411067",
      "text/html": "<div>\n<style scoped>\n    .dataframe tbody tr th:only-of-type {\n        vertical-align: middle;\n    }\n\n    .dataframe tbody tr th {\n        vertical-align: top;\n    }\n\n    .dataframe thead th {\n        text-align: right;\n    }\n</style>\n<table border=\"1\" class=\"dataframe\">\n  <thead>\n    <tr style=\"text-align: right;\">\n      <th></th>\n      <th>광역시도</th>\n      <th>상관계수</th>\n    </tr>\n  </thead>\n  <tbody>\n    <tr>\n      <th>0</th>\n      <td>강원도</td>\n      <td>-0.003425</td>\n    </tr>\n    <tr>\n      <th>1</th>\n      <td>경기도</td>\n      <td>-0.215725</td>\n    </tr>\n    <tr>\n      <th>2</th>\n      <td>경상남도</td>\n      <td>0.029952</td>\n    </tr>\n    <tr>\n      <th>3</th>\n      <td>경상북도</td>\n      <td>0.205930</td>\n    </tr>\n    <tr>\n      <th>4</th>\n      <td>광주광역시</td>\n      <td>0.676929</td>\n    </tr>\n    <tr>\n      <th>5</th>\n      <td>대구광역시</td>\n      <td>-0.057946</td>\n    </tr>\n    <tr>\n      <th>6</th>\n      <td>대전광역시</td>\n      <td>0.199716</td>\n    </tr>\n    <tr>\n      <th>7</th>\n      <td>부산광역시</td>\n      <td>-0.138237</td>\n    </tr>\n    <tr>\n      <th>8</th>\n      <td>서울특별시</td>\n      <td>0.664427</td>\n    </tr>\n    <tr>\n      <th>9</th>\n      <td>세종특별자치시</td>\n      <td>0.000000</td>\n    </tr>\n    <tr>\n      <th>10</th>\n      <td>울산광역시</td>\n      <td>-0.134357</td>\n    </tr>\n    <tr>\n      <th>11</th>\n      <td>인천광역시</td>\n      <td>-0.457143</td>\n    </tr>\n    <tr>\n      <th>12</th>\n      <td>전라남도</td>\n      <td>-0.057869</td>\n    </tr>\n    <tr>\n      <th>13</th>\n      <td>전라북도</td>\n      <td>-0.695805</td>\n    </tr>\n    <tr>\n      <th>14</th>\n      <td>제주특별자치도</td>\n      <td>1.000000</td>\n    </tr>\n    <tr>\n      <th>15</th>\n      <td>충청남도</td>\n      <td>0.272964</td>\n    </tr>\n    <tr>\n      <th>16</th>\n      <td>충청북도</td>\n      <td>0.411067</td>\n    </tr>\n  </tbody>\n</table>\n</div>"
     },
     "execution_count": 6,
     "metadata": {},
     "output_type": "execute_result"
    }
   ],
   "source": [
    "def temp_method2(name):\n",
    "    temp = data.loc[data['광역시도']==name]\n",
    "    return temp['면적'].corr(temp['인구수'])\n",
    "# print(temp_method2('경기도'))\n",
    "pop_corr_city_df = pd.DataFrame(columns=['광역시도','상관계수'])\n",
    "for sido_name in data['광역시도'].unique():\n",
    "    pop_corr_city_df = pop_corr_city_df.append({'광역시도' : sido_name,'상관계수' : temp_method2(sido_name)},ignore_index=True)\n",
    "pop_corr_city_df.fillna(0,inplace=True)\n",
    "pop_corr_city_df"
   ],
   "metadata": {
    "collapsed": false,
    "pycharm": {
     "name": "#%%\n"
    }
   }
  },
  {
   "cell_type": "code",
   "execution_count": 10,
   "outputs": [
    {
     "data": {
      "text/plain": "       광역시도      상관계수\n0       강원도 -0.003425\n1       경기도 -0.215725\n2      경상남도  0.029952\n3      경상북도  0.205930\n4     광주광역시  0.676929\n5     대구광역시 -0.057946\n6     대전광역시  0.199716\n7     부산광역시 -0.138237\n8     서울특별시  0.664427\n9   세종특별자치시  0.000000\n10    울산광역시 -0.134357\n11    인천광역시 -0.457143\n12     전라남도 -0.057869\n13     전라북도 -0.695805\n14  제주특별자치도  1.000000\n15     충청남도  0.272964\n16     충청북도  0.411067",
      "text/html": "<div>\n<style scoped>\n    .dataframe tbody tr th:only-of-type {\n        vertical-align: middle;\n    }\n\n    .dataframe tbody tr th {\n        vertical-align: top;\n    }\n\n    .dataframe thead th {\n        text-align: right;\n    }\n</style>\n<table border=\"1\" class=\"dataframe\">\n  <thead>\n    <tr style=\"text-align: right;\">\n      <th></th>\n      <th>광역시도</th>\n      <th>상관계수</th>\n    </tr>\n  </thead>\n  <tbody>\n    <tr>\n      <th>0</th>\n      <td>강원도</td>\n      <td>-0.003425</td>\n    </tr>\n    <tr>\n      <th>1</th>\n      <td>경기도</td>\n      <td>-0.215725</td>\n    </tr>\n    <tr>\n      <th>2</th>\n      <td>경상남도</td>\n      <td>0.029952</td>\n    </tr>\n    <tr>\n      <th>3</th>\n      <td>경상북도</td>\n      <td>0.205930</td>\n    </tr>\n    <tr>\n      <th>4</th>\n      <td>광주광역시</td>\n      <td>0.676929</td>\n    </tr>\n    <tr>\n      <th>5</th>\n      <td>대구광역시</td>\n      <td>-0.057946</td>\n    </tr>\n    <tr>\n      <th>6</th>\n      <td>대전광역시</td>\n      <td>0.199716</td>\n    </tr>\n    <tr>\n      <th>7</th>\n      <td>부산광역시</td>\n      <td>-0.138237</td>\n    </tr>\n    <tr>\n      <th>8</th>\n      <td>서울특별시</td>\n      <td>0.664427</td>\n    </tr>\n    <tr>\n      <th>9</th>\n      <td>세종특별자치시</td>\n      <td>0.000000</td>\n    </tr>\n    <tr>\n      <th>10</th>\n      <td>울산광역시</td>\n      <td>-0.134357</td>\n    </tr>\n    <tr>\n      <th>11</th>\n      <td>인천광역시</td>\n      <td>-0.457143</td>\n    </tr>\n    <tr>\n      <th>12</th>\n      <td>전라남도</td>\n      <td>-0.057869</td>\n    </tr>\n    <tr>\n      <th>13</th>\n      <td>전라북도</td>\n      <td>-0.695805</td>\n    </tr>\n    <tr>\n      <th>14</th>\n      <td>제주특별자치도</td>\n      <td>1.000000</td>\n    </tr>\n    <tr>\n      <th>15</th>\n      <td>충청남도</td>\n      <td>0.272964</td>\n    </tr>\n    <tr>\n      <th>16</th>\n      <td>충청북도</td>\n      <td>0.411067</td>\n    </tr>\n  </tbody>\n</table>\n</div>"
     },
     "execution_count": 10,
     "metadata": {},
     "output_type": "execute_result"
    }
   ],
   "source": [
    "corr_df2 = pd.DataFrame(columns=['광역시도','상관계수'])\n",
    "corr_df2['광역시도'] = data['광역시도'].unique()\n",
    "corr_df2['상관계수'] = corr_df2['광역시도'].map(temp_method2)\n",
    "corr_df2.fillna(0,inplace=True)\n",
    "corr_df2"
   ],
   "metadata": {
    "collapsed": false,
    "pycharm": {
     "name": "#%%\n"
    }
   }
  },
  {
   "cell_type": "code",
   "execution_count": 1,
   "outputs": [],
   "source": [
    "# temp_df = data.groupby(data['광역시도'])['인구수','면적'].agg(['sum'])\n",
    "# temp_df['인구수'].reset_index('광역시도')\n"
   ],
   "metadata": {
    "collapsed": false,
    "pycharm": {
     "name": "#%%\n"
    }
   }
  },
  {
   "cell_type": "code",
   "execution_count": 2,
   "outputs": [],
   "source": [
    "import matplotlib\n",
    "import matplotlib.pyplot as plt\n",
    "import matplotlib.font_manager as fm\n",
    "\n",
    "import seaborn as sns"
   ],
   "metadata": {
    "collapsed": false,
    "pycharm": {
     "name": "#%%\n"
    }
   }
  },
  {
   "cell_type": "code",
   "execution_count": 4,
   "outputs": [
    {
     "name": "stdout",
     "output_type": "stream",
     "text": [
      "Malgun Gothic\n"
     ]
    }
   ],
   "source": [
    "font_path = 'C:\\\\Windows\\\\Fonts\\\\malgun.ttf'\n",
    "font_prop = fm.FontProperties(fname=font_path).get_name()\n",
    "print(font_prop)\n",
    "matplotlib.rc('font',family = font_prop)"
   ],
   "metadata": {
    "collapsed": false,
    "pycharm": {
     "name": "#%%\n"
    }
   }
  },
  {
   "cell_type": "code",
   "execution_count": null,
   "outputs": [],
   "source": [],
   "metadata": {
    "collapsed": false,
    "pycharm": {
     "name": "#%%\n"
    }
   }
  }
 ],
 "metadata": {
  "kernelspec": {
   "display_name": "Python 3",
   "language": "python",
   "name": "python3"
  },
  "language_info": {
   "codemirror_mode": {
    "name": "ipython",
    "version": 2
   },
   "file_extension": ".py",
   "mimetype": "text/x-python",
   "name": "python",
   "nbconvert_exporter": "python",
   "pygments_lexer": "ipython2",
   "version": "2.7.6"
  }
 },
 "nbformat": 4,
 "nbformat_minor": 0
}