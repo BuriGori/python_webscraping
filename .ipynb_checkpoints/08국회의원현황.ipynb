{
 "cells": [
  {
   "cell_type": "code",
   "execution_count": 14,
   "metadata": {
    "collapsed": true
   },
   "outputs": [
    {
     "name": "stdout",
     "output_type": "stream",
     "text": [
      "200\n",
      "295\n"
     ]
    }
   ],
   "source": [
    "import requests\n",
    "from bs4 import BeautifulSoup\n",
    "import re\n",
    "\n",
    "url = \"https://www.assembly.go.kr/assm/memact/congressman/memCond/memCondListAjax.do\"\n",
    "req_param_dict = {\n",
    "    'currentPage' : 1,\n",
    "    'rowPerPage' : 500\n",
    "}\n",
    "\n",
    "res = requests.get(url, params=req_param_dict)\n",
    "print(res.status_code)\n",
    "if res.ok:\n",
    "    soup =BeautifulSoup(res.text,'html.parser')\n",
    "    # print(soup)\n",
    "    a_tags_list = soup.select(\"div.memberna_list dl dt a\")\n",
    "    # print(len(a_tags_list),a_tags_list.tex)\n",
    "    member_id_list=[]\n",
    "    for a_tag in a_tags_list:\n",
    "        href = a_tag['href'];\n",
    "        # print(a_tag)\n",
    "        matched = re.search(r'(\\d+)',href)\n",
    "        if matched:\n",
    "            member_id=matched[0]\n",
    "        member_id_list.append(member_id)\n",
    "        # print(matched[0])\n",
    "    print(len(member_id_list))"
   ]
  },
  {
   "cell_type": "code",
   "execution_count": 26,
   "outputs": [
    {
     "name": "stdout",
     "output_type": "stream",
     "text": [
      "1 https://www.assembly.go.kr/assm/memPop/memPopup.do?dept_cd=9771230\n",
      "1 추가성공\n",
      "2 https://www.assembly.go.kr/assm/memPop/memPopup.do?dept_cd=9771142\n",
      "2 추가성공\n",
      "3 https://www.assembly.go.kr/assm/memPop/memPopup.do?dept_cd=9771174\n",
      "3 추가성공\n",
      "4 https://www.assembly.go.kr/assm/memPop/memPopup.do?dept_cd=9771233\n",
      "4 추가성공\n",
      "5 https://www.assembly.go.kr/assm/memPop/memPopup.do?dept_cd=9771283\n",
      "5 추가성공\n",
      "6 https://www.assembly.go.kr/assm/memPop/memPopup.do?dept_cd=9770933\n",
      "6 추가성공\n",
      "7 https://www.assembly.go.kr/assm/memPop/memPopup.do?dept_cd=9771116\n",
      "7 추가성공\n",
      "8 https://www.assembly.go.kr/assm/memPop/memPopup.do?dept_cd=9771276\n",
      "8 추가성공\n",
      "9 https://www.assembly.go.kr/assm/memPop/memPopup.do?dept_cd=9771168\n",
      "9 추가성공\n",
      "10 https://www.assembly.go.kr/assm/memPop/memPopup.do?dept_cd=9771007\n",
      "10 추가성공\n",
      "11 https://www.assembly.go.kr/assm/memPop/memPopup.do?dept_cd=9771109\n",
      "11 추가성공\n",
      "12 https://www.assembly.go.kr/assm/memPop/memPopup.do?dept_cd=9771180\n",
      "12 추가성공\n",
      "13 https://www.assembly.go.kr/assm/memPop/memPopup.do?dept_cd=9770931\n",
      "13 추가성공\n",
      "14 https://www.assembly.go.kr/assm/memPop/memPopup.do?dept_cd=9771224\n",
      "14 추가성공\n",
      "15 https://www.assembly.go.kr/assm/memPop/memPopup.do?dept_cd=9771165\n",
      "15 추가성공\n",
      "16 https://www.assembly.go.kr/assm/memPop/memPopup.do?dept_cd=9770679\n",
      "16 추가성공\n",
      "17 https://www.assembly.go.kr/assm/memPop/memPopup.do?dept_cd=9771108\n",
      "17 추가성공\n",
      "18 https://www.assembly.go.kr/assm/memPop/memPopup.do?dept_cd=9770977\n",
      "18 추가성공\n",
      "19 https://www.assembly.go.kr/assm/memPop/memPopup.do?dept_cd=9771259\n",
      "19 추가성공\n",
      "20 https://www.assembly.go.kr/assm/memPop/memPopup.do?dept_cd=9770998\n",
      "20 추가성공\n",
      "21 https://www.assembly.go.kr/assm/memPop/memPopup.do?dept_cd=9770927\n",
      "21 추가성공\n",
      "22 https://www.assembly.go.kr/assm/memPop/memPopup.do?dept_cd=9771258\n",
      "22 추가성공\n",
      "23 https://www.assembly.go.kr/assm/memPop/memPopup.do?dept_cd=9770712\n",
      "23 추가성공\n",
      "24 https://www.assembly.go.kr/assm/memPop/memPopup.do?dept_cd=9771152\n",
      "24 추가성공\n",
      "25 https://www.assembly.go.kr/assm/memPop/memPopup.do?dept_cd=9771164\n",
      "25 추가성공\n",
      "26 https://www.assembly.go.kr/assm/memPop/memPopup.do?dept_cd=9771181\n",
      "26 추가성공\n",
      "27 https://www.assembly.go.kr/assm/memPop/memPopup.do?dept_cd=9770719\n",
      "27 추가성공\n",
      "28 https://www.assembly.go.kr/assm/memPop/memPopup.do?dept_cd=9770997\n",
      "28 추가성공\n",
      "29 https://www.assembly.go.kr/assm/memPop/memPopup.do?dept_cd=9771136\n",
      "29 추가성공\n",
      "30 https://www.assembly.go.kr/assm/memPop/memPopup.do?dept_cd=9770723\n",
      "30 추가성공\n",
      "31 https://www.assembly.go.kr/assm/memPop/memPopup.do?dept_cd=9771120\n",
      "31 추가성공\n",
      "32 https://www.assembly.go.kr/assm/memPop/memPopup.do?dept_cd=9771173\n",
      "32 추가성공\n",
      "33 https://www.assembly.go.kr/assm/memPop/memPopup.do?dept_cd=9770941\n",
      "33 추가성공\n",
      "34 https://www.assembly.go.kr/assm/memPop/memPopup.do?dept_cd=9770984\n",
      "34 추가성공\n",
      "35 https://www.assembly.go.kr/assm/memPop/memPopup.do?dept_cd=9771285\n",
      "35 추가성공\n",
      "36 https://www.assembly.go.kr/assm/memPop/memPopup.do?dept_cd=9771268\n",
      "36 추가성공\n",
      "37 https://www.assembly.go.kr/assm/memPop/memPopup.do?dept_cd=9770725\n",
      "37 추가성공\n",
      "38 https://www.assembly.go.kr/assm/memPop/memPopup.do?dept_cd=9770527\n",
      "38 추가성공\n",
      "39 https://www.assembly.go.kr/assm/memPop/memPopup.do?dept_cd=9771024\n",
      "39 추가성공\n",
      "40 https://www.assembly.go.kr/assm/memPop/memPopup.do?dept_cd=9771195\n",
      "40 추가성공\n",
      "41 https://www.assembly.go.kr/assm/memPop/memPopup.do?dept_cd=9770985\n",
      "41 추가성공\n",
      "42 https://www.assembly.go.kr/assm/memPop/memPopup.do?dept_cd=9771208\n",
      "42 추가성공\n",
      "43 https://www.assembly.go.kr/assm/memPop/memPopup.do?dept_cd=9771089\n",
      "43 추가성공\n",
      "44 https://www.assembly.go.kr/assm/memPop/memPopup.do?dept_cd=9771210\n",
      "44 추가성공\n",
      "45 https://www.assembly.go.kr/assm/memPop/memPopup.do?dept_cd=9771220\n",
      "45 추가성공\n",
      "46 https://www.assembly.go.kr/assm/memPop/memPopup.do?dept_cd=9771144\n",
      "46 추가성공\n",
      "47 https://www.assembly.go.kr/assm/memPop/memPopup.do?dept_cd=9771169\n",
      "47 추가성공\n",
      "48 https://www.assembly.go.kr/assm/memPop/memPopup.do?dept_cd=9771111\n",
      "48 추가성공\n",
      "49 https://www.assembly.go.kr/assm/memPop/memPopup.do?dept_cd=9771225\n",
      "49 추가성공\n",
      "50 https://www.assembly.go.kr/assm/memPop/memPopup.do?dept_cd=9770975\n",
      "50 추가성공\n",
      "51 https://www.assembly.go.kr/assm/memPop/memPopup.do?dept_cd=9770981\n",
      "51 추가성공\n",
      "52 https://www.assembly.go.kr/assm/memPop/memPopup.do?dept_cd=9770934\n",
      "52 추가성공\n",
      "53 https://www.assembly.go.kr/assm/memPop/memPopup.do?dept_cd=9771249\n",
      "53 추가성공\n",
      "54 https://www.assembly.go.kr/assm/memPop/memPopup.do?dept_cd=9771186\n",
      "54 추가성공\n",
      "55 https://www.assembly.go.kr/assm/memPop/memPopup.do?dept_cd=9771147\n",
      "55 추가성공\n",
      "56 https://www.assembly.go.kr/assm/memPop/memPopup.do?dept_cd=9771127\n",
      "56 추가성공\n",
      "57 https://www.assembly.go.kr/assm/memPop/memPopup.do?dept_cd=9771214\n",
      "57 추가성공\n",
      "58 https://www.assembly.go.kr/assm/memPop/memPopup.do?dept_cd=9771206\n",
      "58 추가성공\n",
      "59 https://www.assembly.go.kr/assm/memPop/memPopup.do?dept_cd=9771171\n",
      "59 추가성공\n",
      "60 https://www.assembly.go.kr/assm/memPop/memPopup.do?dept_cd=9771288\n",
      "60 추가성공\n",
      "61 https://www.assembly.go.kr/assm/memPop/memPopup.do?dept_cd=9771023\n",
      "61 추가성공\n",
      "62 https://www.assembly.go.kr/assm/memPop/memPopup.do?dept_cd=9771090\n",
      "62 추가성공\n",
      "63 https://www.assembly.go.kr/assm/memPop/memPopup.do?dept_cd=9771009\n",
      "63 추가성공\n",
      "64 https://www.assembly.go.kr/assm/memPop/memPopup.do?dept_cd=9771192\n",
      "64 추가성공\n",
      "65 https://www.assembly.go.kr/assm/memPop/memPopup.do?dept_cd=9770982\n",
      "65 추가성공\n",
      "66 https://www.assembly.go.kr/assm/memPop/memPopup.do?dept_cd=9770986\n",
      "66 추가성공\n",
      "67 https://www.assembly.go.kr/assm/memPop/memPopup.do?dept_cd=9770741\n",
      "67 추가성공\n",
      "68 https://www.assembly.go.kr/assm/memPop/memPopup.do?dept_cd=9771237\n",
      "68 추가성공\n",
      "69 https://www.assembly.go.kr/assm/memPop/memPopup.do?dept_cd=9770742\n",
      "69 추가성공\n",
      "70 https://www.assembly.go.kr/assm/memPop/memPopup.do?dept_cd=9770991\n",
      "70 추가성공\n",
      "71 https://www.assembly.go.kr/assm/memPop/memPopup.do?dept_cd=9771223\n",
      "71 추가성공\n",
      "72 https://www.assembly.go.kr/assm/memPop/memPopup.do?dept_cd=9771270\n",
      "72 추가성공\n",
      "73 https://www.assembly.go.kr/assm/memPop/memPopup.do?dept_cd=9771216\n",
      "73 추가성공\n",
      "74 https://www.assembly.go.kr/assm/memPop/memPopup.do?dept_cd=9771134\n",
      "74 추가성공\n",
      "75 https://www.assembly.go.kr/assm/memPop/memPopup.do?dept_cd=9771228\n",
      "75 추가성공\n",
      "76 https://www.assembly.go.kr/assm/memPop/memPopup.do?dept_cd=9770752\n",
      "76 추가성공\n",
      "77 https://www.assembly.go.kr/assm/memPop/memPopup.do?dept_cd=9770753\n",
      "77 추가성공\n",
      "78 https://www.assembly.go.kr/assm/memPop/memPopup.do?dept_cd=9770755\n",
      "78 추가성공\n",
      "79 https://www.assembly.go.kr/assm/memPop/memPopup.do?dept_cd=9771141\n",
      "79 추가성공\n",
      "80 https://www.assembly.go.kr/assm/memPop/memPopup.do?dept_cd=9771274\n",
      "80 추가성공\n",
      "81 https://www.assembly.go.kr/assm/memPop/memPopup.do?dept_cd=9771091\n",
      "81 추가성공\n",
      "82 https://www.assembly.go.kr/assm/memPop/memPopup.do?dept_cd=9771187\n",
      "82 추가성공\n",
      "83 https://www.assembly.go.kr/assm/memPop/memPopup.do?dept_cd=9771204\n",
      "83 추가성공\n",
      "84 https://www.assembly.go.kr/assm/memPop/memPopup.do?dept_cd=9771175\n",
      "84 추가성공\n",
      "85 https://www.assembly.go.kr/assm/memPop/memPopup.do?dept_cd=9771159\n",
      "85 추가성공\n",
      "86 https://www.assembly.go.kr/assm/memPop/memPopup.do?dept_cd=9770764\n",
      "86 추가성공\n",
      "87 https://www.assembly.go.kr/assm/memPop/memPopup.do?dept_cd=9770911\n",
      "87 추가성공\n",
      "88 https://www.assembly.go.kr/assm/memPop/memPopup.do?dept_cd=9771248\n",
      "88 추가성공\n",
      "89 https://www.assembly.go.kr/assm/memPop/memPopup.do?dept_cd=9770767\n",
      "89 추가성공\n",
      "90 https://www.assembly.go.kr/assm/memPop/memPopup.do?dept_cd=9770768\n",
      "90 추가성공\n",
      "91 https://www.assembly.go.kr/assm/memPop/memPopup.do?dept_cd=9770770\n",
      "91 추가성공\n",
      "92 https://www.assembly.go.kr/assm/memPop/memPopup.do?dept_cd=9770090\n",
      "92 추가성공\n",
      "93 https://www.assembly.go.kr/assm/memPop/memPopup.do?dept_cd=9771193\n",
      "93 추가성공\n",
      "94 https://www.assembly.go.kr/assm/memPop/memPopup.do?dept_cd=9771163\n",
      "94 추가성공\n",
      "95 https://www.assembly.go.kr/assm/memPop/memPopup.do?dept_cd=9771107\n",
      "95 추가성공\n",
      "96 https://www.assembly.go.kr/assm/memPop/memPopup.do?dept_cd=9770944\n",
      "96 추가성공\n",
      "97 https://www.assembly.go.kr/assm/memPop/memPopup.do?dept_cd=9771135\n",
      "97 추가성공\n",
      "98 https://www.assembly.go.kr/assm/memPop/memPopup.do?dept_cd=9771162\n",
      "98 추가성공\n",
      "99 https://www.assembly.go.kr/assm/memPop/memPopup.do?dept_cd=9771030\n",
      "99 추가성공\n",
      "100 https://www.assembly.go.kr/assm/memPop/memPopup.do?dept_cd=9770774\n",
      "100 추가성공\n",
      "101 https://www.assembly.go.kr/assm/memPop/memPopup.do?dept_cd=9770929\n",
      "101 추가성공\n",
      "102 https://www.assembly.go.kr/assm/memPop/memPopup.do?dept_cd=9770950\n",
      "102 추가성공\n",
      "103 https://www.assembly.go.kr/assm/memPop/memPopup.do?dept_cd=9770995\n",
      "103 추가성공\n",
      "104 https://www.assembly.go.kr/assm/memPop/memPopup.do?dept_cd=9770932\n",
      "104 추가성공\n",
      "105 https://www.assembly.go.kr/assm/memPop/memPopup.do?dept_cd=9771125\n",
      "105 추가성공\n",
      "106 https://www.assembly.go.kr/assm/memPop/memPopup.do?dept_cd=9770963\n",
      "106 추가성공\n",
      "107 https://www.assembly.go.kr/assm/memPop/memPopup.do?dept_cd=9771226\n",
      "107 추가성공\n",
      "108 https://www.assembly.go.kr/assm/memPop/memPopup.do?dept_cd=9770779\n",
      "108 추가성공\n",
      "109 https://www.assembly.go.kr/assm/memPop/memPopup.do?dept_cd=9771148\n",
      "109 추가성공\n",
      "110 https://www.assembly.go.kr/assm/memPop/memPopup.do?dept_cd=9771277\n",
      "110 추가성공\n",
      "111 https://www.assembly.go.kr/assm/memPop/memPopup.do?dept_cd=9771128\n",
      "111 추가성공\n",
      "112 https://www.assembly.go.kr/assm/memPop/memPopup.do?dept_cd=9771137\n",
      "112 추가성공\n",
      "113 https://www.assembly.go.kr/assm/memPop/memPopup.do?dept_cd=9770980\n",
      "113 추가성공\n",
      "114 https://www.assembly.go.kr/assm/memPop/memPopup.do?dept_cd=9770356\n",
      "114 추가성공\n",
      "115 https://www.assembly.go.kr/assm/memPop/memPopup.do?dept_cd=9771218\n",
      "115 추가성공\n",
      "116 https://www.assembly.go.kr/assm/memPop/memPopup.do?dept_cd=9771166\n",
      "116 추가성공\n",
      "117 https://www.assembly.go.kr/assm/memPop/memPopup.do?dept_cd=9771133\n",
      "117 추가성공\n",
      "118 https://www.assembly.go.kr/assm/memPop/memPopup.do?dept_cd=9771092\n",
      "118 추가성공\n",
      "119 https://www.assembly.go.kr/assm/memPop/memPopup.do?dept_cd=9770784\n",
      "119 추가성공\n",
      "120 https://www.assembly.go.kr/assm/memPop/memPopup.do?dept_cd=9771176\n",
      "120 추가성공\n",
      "121 https://www.assembly.go.kr/assm/memPop/memPopup.do?dept_cd=9771236\n",
      "121 추가성공\n",
      "122 https://www.assembly.go.kr/assm/memPop/memPopup.do?dept_cd=9771254\n",
      "122 추가성공\n",
      "123 https://www.assembly.go.kr/assm/memPop/memPopup.do?dept_cd=9770786\n",
      "123 추가성공\n",
      "124 https://www.assembly.go.kr/assm/memPop/memPopup.do?dept_cd=9771008\n",
      "124 추가성공\n",
      "125 https://www.assembly.go.kr/assm/memPop/memPopup.do?dept_cd=9771217\n",
      "125 추가성공\n",
      "126 https://www.assembly.go.kr/assm/memPop/memPopup.do?dept_cd=9770999\n",
      "126 추가성공\n",
      "127 https://www.assembly.go.kr/assm/memPop/memPopup.do?dept_cd=9771093\n",
      "127 추가성공\n",
      "128 https://www.assembly.go.kr/assm/memPop/memPopup.do?dept_cd=9771001\n",
      "128 추가성공\n",
      "129 https://www.assembly.go.kr/assm/memPop/memPopup.do?dept_cd=9770996\n",
      "129 추가성공\n",
      "130 https://www.assembly.go.kr/assm/memPop/memPopup.do?dept_cd=9771094\n",
      "130 추가성공\n",
      "131 https://www.assembly.go.kr/assm/memPop/memPopup.do?dept_cd=9770967\n",
      "131 추가성공\n",
      "132 https://www.assembly.go.kr/assm/memPop/memPopup.do?dept_cd=9771058\n",
      "132 추가성공\n",
      "133 https://www.assembly.go.kr/assm/memPop/memPopup.do?dept_cd=9771238\n",
      "133 추가성공\n",
      "134 https://www.assembly.go.kr/assm/memPop/memPopup.do?dept_cd=9770968\n",
      "134 추가성공\n",
      "135 https://www.assembly.go.kr/assm/memPop/memPopup.do?dept_cd=9771209\n",
      "135 추가성공\n",
      "136 https://www.assembly.go.kr/assm/memPop/memPopup.do?dept_cd=9771246\n",
      "136 추가성공\n",
      "137 https://www.assembly.go.kr/assm/memPop/memPopup.do?dept_cd=9771219\n",
      "137 추가성공\n",
      "138 https://www.assembly.go.kr/assm/memPop/memPopup.do?dept_cd=9771257\n",
      "138 추가성공\n",
      "139 https://www.assembly.go.kr/assm/memPop/memPopup.do?dept_cd=9770869\n",
      "139 추가성공\n",
      "140 https://www.assembly.go.kr/assm/memPop/memPopup.do?dept_cd=9770587\n",
      "140 추가성공\n",
      "141 https://www.assembly.go.kr/assm/memPop/memPopup.do?dept_cd=9770372\n",
      "141 추가성공\n",
      "142 https://www.assembly.go.kr/assm/memPop/memPopup.do?dept_cd=9771132\n",
      "142 추가성공\n",
      "143 https://www.assembly.go.kr/assm/memPop/memPopup.do?dept_cd=9771017\n",
      "143 추가성공\n",
      "144 https://www.assembly.go.kr/assm/memPop/memPopup.do?dept_cd=9771273\n",
      "144 추가성공\n",
      "145 https://www.assembly.go.kr/assm/memPop/memPopup.do?dept_cd=9771143\n",
      "145 추가성공\n",
      "146 https://www.assembly.go.kr/assm/memPop/memPopup.do?dept_cd=9771178\n",
      "146 추가성공\n",
      "147 https://www.assembly.go.kr/assm/memPop/memPopup.do?dept_cd=9771287\n",
      "147 추가성공\n",
      "148 https://www.assembly.go.kr/assm/memPop/memPopup.do?dept_cd=9771271\n",
      "148 추가성공\n",
      "149 https://www.assembly.go.kr/assm/memPop/memPopup.do?dept_cd=9771155\n",
      "149 추가성공\n",
      "150 https://www.assembly.go.kr/assm/memPop/memPopup.do?dept_cd=9771010\n",
      "150 추가성공\n",
      "151 https://www.assembly.go.kr/assm/memPop/memPopup.do?dept_cd=9771202\n",
      "151 추가성공\n",
      "152 https://www.assembly.go.kr/assm/memPop/memPopup.do?dept_cd=9771113\n",
      "152 추가성공\n",
      "153 https://www.assembly.go.kr/assm/memPop/memPopup.do?dept_cd=9771172\n",
      "153 추가성공\n",
      "154 https://www.assembly.go.kr/assm/memPop/memPopup.do?dept_cd=9771037\n",
      "154 추가성공\n",
      "155 https://www.assembly.go.kr/assm/memPop/memPopup.do?dept_cd=9771261\n",
      "155 추가성공\n",
      "156 https://www.assembly.go.kr/assm/memPop/memPopup.do?dept_cd=9770871\n",
      "156 추가성공\n",
      "157 https://www.assembly.go.kr/assm/memPop/memPopup.do?dept_cd=9770872\n",
      "157 추가성공\n",
      "158 https://www.assembly.go.kr/assm/memPop/memPopup.do?dept_cd=9771038\n",
      "158 추가성공\n",
      "159 https://www.assembly.go.kr/assm/memPop/memPopup.do?dept_cd=9771126\n",
      "159 추가성공\n",
      "160 https://www.assembly.go.kr/assm/memPop/memPopup.do?dept_cd=9771121\n",
      "160 추가성공\n",
      "161 https://www.assembly.go.kr/assm/memPop/memPopup.do?dept_cd=9770966\n",
      "161 추가성공\n",
      "162 https://www.assembly.go.kr/assm/memPop/memPopup.do?dept_cd=9771199\n",
      "162 추가성공\n",
      "163 https://www.assembly.go.kr/assm/memPop/memPopup.do?dept_cd=9770912\n",
      "163 추가성공\n",
      "164 https://www.assembly.go.kr/assm/memPop/memPopup.do?dept_cd=9771266\n",
      "164 추가성공\n",
      "165 https://www.assembly.go.kr/assm/memPop/memPopup.do?dept_cd=9771118\n",
      "165 추가성공\n",
      "166 https://www.assembly.go.kr/assm/memPop/memPopup.do?dept_cd=9770808\n",
      "166 추가성공\n",
      "167 https://www.assembly.go.kr/assm/memPop/memPopup.do?dept_cd=9771227\n",
      "167 추가성공\n",
      "168 https://www.assembly.go.kr/assm/memPop/memPopup.do?dept_cd=9771263\n",
      "168 추가성공\n",
      "169 https://www.assembly.go.kr/assm/memPop/memPopup.do?dept_cd=9770598\n",
      "169 추가성공\n",
      "170 https://www.assembly.go.kr/assm/memPop/memPopup.do?dept_cd=9771153\n",
      "170 추가성공\n",
      "171 https://www.assembly.go.kr/assm/memPop/memPopup.do?dept_cd=9770811\n",
      "171 추가성공\n",
      "172 https://www.assembly.go.kr/assm/memPop/memPopup.do?dept_cd=9771170\n",
      "172 추가성공\n",
      "173 https://www.assembly.go.kr/assm/memPop/memPopup.do?dept_cd=9771221\n",
      "173 추가성공\n",
      "174 https://www.assembly.go.kr/assm/memPop/memPopup.do?dept_cd=9770812\n",
      "174 추가성공\n",
      "175 https://www.assembly.go.kr/assm/memPop/memPopup.do?dept_cd=9771239\n",
      "175 추가성공\n",
      "176 https://www.assembly.go.kr/assm/memPop/memPopup.do?dept_cd=9771212\n",
      "176 추가성공\n",
      "177 https://www.assembly.go.kr/assm/memPop/memPopup.do?dept_cd=9771240\n",
      "177 추가성공\n",
      "178 https://www.assembly.go.kr/assm/memPop/memPopup.do?dept_cd=9771032\n",
      "178 추가성공\n",
      "179 https://www.assembly.go.kr/assm/memPop/memPopup.do?dept_cd=9770876\n",
      "179 추가성공\n",
      "180 https://www.assembly.go.kr/assm/memPop/memPopup.do?dept_cd=9770813\n",
      "180 추가성공\n",
      "181 https://www.assembly.go.kr/assm/memPop/memPopup.do?dept_cd=9770905\n",
      "181 추가성공\n",
      "182 https://www.assembly.go.kr/assm/memPop/memPopup.do?dept_cd=9771198\n",
      "182 추가성공\n",
      "183 https://www.assembly.go.kr/assm/memPop/memPopup.do?dept_cd=9771232\n",
      "183 추가성공\n",
      "184 https://www.assembly.go.kr/assm/memPop/memPopup.do?dept_cd=9771260\n",
      "184 추가성공\n",
      "185 https://www.assembly.go.kr/assm/memPop/memPopup.do?dept_cd=9771028\n",
      "185 추가성공\n",
      "186 https://www.assembly.go.kr/assm/memPop/memPopup.do?dept_cd=9770602\n",
      "186 추가성공\n",
      "187 https://www.assembly.go.kr/assm/memPop/memPopup.do?dept_cd=9771154\n",
      "187 추가성공\n",
      "188 https://www.assembly.go.kr/assm/memPop/memPopup.do?dept_cd=9770414\n",
      "188 추가성공\n",
      "189 https://www.assembly.go.kr/assm/memPop/memPopup.do?dept_cd=9771207\n",
      "189 추가성공\n",
      "190 https://www.assembly.go.kr/assm/memPop/memPopup.do?dept_cd=9771098\n",
      "190 추가성공\n",
      "191 https://www.assembly.go.kr/assm/memPop/memPopup.do?dept_cd=9771151\n",
      "191 추가성공\n",
      "192 https://www.assembly.go.kr/assm/memPop/memPopup.do?dept_cd=9771185\n",
      "192 추가성공\n",
      "193 https://www.assembly.go.kr/assm/memPop/memPopup.do?dept_cd=9771284\n",
      "193 추가성공\n",
      "194 https://www.assembly.go.kr/assm/memPop/memPopup.do?dept_cd=9771269\n",
      "194 추가성공\n",
      "195 https://www.assembly.go.kr/assm/memPop/memPopup.do?dept_cd=9771003\n",
      "195 추가성공\n",
      "196 https://www.assembly.go.kr/assm/memPop/memPopup.do?dept_cd=9771251\n",
      "196 추가성공\n",
      "197 https://www.assembly.go.kr/assm/memPop/memPopup.do?dept_cd=9771255\n",
      "197 추가성공\n",
      "198 https://www.assembly.go.kr/assm/memPop/memPopup.do?dept_cd=9771158\n",
      "198 추가성공\n",
      "199 https://www.assembly.go.kr/assm/memPop/memPopup.do?dept_cd=9771115\n",
      "199 추가성공\n",
      "200 https://www.assembly.go.kr/assm/memPop/memPopup.do?dept_cd=9771184\n",
      "200 추가성공\n",
      "201 https://www.assembly.go.kr/assm/memPop/memPopup.do?dept_cd=9771015\n",
      "201 추가성공\n",
      "202 https://www.assembly.go.kr/assm/memPop/memPopup.do?dept_cd=9770826\n",
      "202 추가성공\n",
      "203 https://www.assembly.go.kr/assm/memPop/memPopup.do?dept_cd=9771213\n",
      "203 추가성공\n",
      "204 https://www.assembly.go.kr/assm/memPop/memPopup.do?dept_cd=9771278\n",
      "204 추가성공\n",
      "205 https://www.assembly.go.kr/assm/memPop/memPopup.do?dept_cd=9770878\n",
      "205 추가성공\n",
      "206 https://www.assembly.go.kr/assm/memPop/memPopup.do?dept_cd=9771201\n",
      "206 추가성공\n",
      "207 https://www.assembly.go.kr/assm/memPop/memPopup.do?dept_cd=9771060\n",
      "207 추가성공\n",
      "208 https://www.assembly.go.kr/assm/memPop/memPopup.do?dept_cd=9771205\n",
      "208 추가성공\n",
      "209 https://www.assembly.go.kr/assm/memPop/memPopup.do?dept_cd=9770914\n",
      "209 추가성공\n",
      "210 https://www.assembly.go.kr/assm/memPop/memPopup.do?dept_cd=9771242\n",
      "210 추가성공\n",
      "211 https://www.assembly.go.kr/assm/memPop/memPopup.do?dept_cd=9771138\n",
      "211 추가성공\n",
      "212 https://www.assembly.go.kr/assm/memPop/memPopup.do?dept_cd=9770835\n",
      "212 추가성공\n",
      "213 https://www.assembly.go.kr/assm/memPop/memPopup.do?dept_cd=9771002\n",
      "213 추가성공\n",
      "214 https://www.assembly.go.kr/assm/memPop/memPopup.do?dept_cd=9771190\n",
      "214 추가성공\n",
      "215 https://www.assembly.go.kr/assm/memPop/memPopup.do?dept_cd=9771280\n",
      "215 추가성공\n",
      "216 https://www.assembly.go.kr/assm/memPop/memPopup.do?dept_cd=9770836\n",
      "216 추가성공\n",
      "217 https://www.assembly.go.kr/assm/memPop/memPopup.do?dept_cd=9771129\n",
      "217 추가성공\n",
      "218 https://www.assembly.go.kr/assm/memPop/memPopup.do?dept_cd=9770837\n",
      "218 추가성공\n",
      "219 https://www.assembly.go.kr/assm/memPop/memPopup.do?dept_cd=9771157\n",
      "219 추가성공\n",
      "220 https://www.assembly.go.kr/assm/memPop/memPopup.do?dept_cd=9770839\n",
      "220 추가성공\n",
      "221 https://www.assembly.go.kr/assm/memPop/memPopup.do?dept_cd=9771177\n",
      "221 추가성공\n",
      "222 https://www.assembly.go.kr/assm/memPop/memPopup.do?dept_cd=9771041\n",
      "222 추가성공\n",
      "223 https://www.assembly.go.kr/assm/memPop/memPopup.do?dept_cd=9771000\n",
      "223 추가성공\n",
      "224 https://www.assembly.go.kr/assm/memPop/memPopup.do?dept_cd=9771203\n",
      "224 추가성공\n",
      "225 https://www.assembly.go.kr/assm/memPop/memPopup.do?dept_cd=9771110\n",
      "225 추가성공\n",
      "226 https://www.assembly.go.kr/assm/memPop/memPopup.do?dept_cd=9770954\n",
      "226 추가성공\n",
      "227 https://www.assembly.go.kr/assm/memPop/memPopup.do?dept_cd=9771160\n",
      "227 추가성공\n",
      "228 https://www.assembly.go.kr/assm/memPop/memPopup.do?dept_cd=9771275\n",
      "228 추가성공\n",
      "229 https://www.assembly.go.kr/assm/memPop/memPopup.do?dept_cd=9771139\n",
      "229 추가성공\n",
      "230 https://www.assembly.go.kr/assm/memPop/memPopup.do?dept_cd=9771272\n",
      "230 추가성공\n",
      "231 https://www.assembly.go.kr/assm/memPop/memPopup.do?dept_cd=9770951\n",
      "231 추가성공\n",
      "232 https://www.assembly.go.kr/assm/memPop/memPopup.do?dept_cd=9771253\n",
      "232 추가성공\n",
      "233 https://www.assembly.go.kr/assm/memPop/memPopup.do?dept_cd=9770846\n",
      "233 추가성공\n",
      "234 https://www.assembly.go.kr/assm/memPop/memPopup.do?dept_cd=9770926\n",
      "234 추가성공\n",
      "235 https://www.assembly.go.kr/assm/memPop/memPopup.do?dept_cd=9771245\n",
      "235 추가성공\n",
      "236 https://www.assembly.go.kr/assm/memPop/memPopup.do?dept_cd=9771140\n",
      "236 추가성공\n",
      "237 https://www.assembly.go.kr/assm/memPop/memPopup.do?dept_cd=9770881\n",
      "237 추가성공\n",
      "238 https://www.assembly.go.kr/assm/memPop/memPopup.do?dept_cd=9771012\n",
      "238 추가성공\n",
      "239 https://www.assembly.go.kr/assm/memPop/memPopup.do?dept_cd=9771150\n",
      "239 추가성공\n",
      "240 https://www.assembly.go.kr/assm/memPop/memPopup.do?dept_cd=9771103\n",
      "240 추가성공\n",
      "241 https://www.assembly.go.kr/assm/memPop/memPopup.do?dept_cd=9771006\n",
      "241 추가성공\n",
      "242 https://www.assembly.go.kr/assm/memPop/memPopup.do?dept_cd=9771189\n",
      "242 추가성공\n",
      "243 https://www.assembly.go.kr/assm/memPop/memPopup.do?dept_cd=9771114\n",
      "243 추가성공\n",
      "244 https://www.assembly.go.kr/assm/memPop/memPopup.do?dept_cd=9771068\n",
      "244 추가성공\n",
      "245 https://www.assembly.go.kr/assm/memPop/memPopup.do?dept_cd=9771122\n",
      "245 추가성공\n",
      "246 https://www.assembly.go.kr/assm/memPop/memPopup.do?dept_cd=9771264\n",
      "246 추가성공\n",
      "247 https://www.assembly.go.kr/assm/memPop/memPopup.do?dept_cd=9771229\n",
      "247 추가성공\n",
      "248 https://www.assembly.go.kr/assm/memPop/memPopup.do?dept_cd=9770450\n",
      "248 추가성공\n",
      "249 https://www.assembly.go.kr/assm/memPop/memPopup.do?dept_cd=9771247\n",
      "249 추가성공\n",
      "250 https://www.assembly.go.kr/assm/memPop/memPopup.do?dept_cd=9771243\n",
      "250 추가성공\n",
      "251 https://www.assembly.go.kr/assm/memPop/memPopup.do?dept_cd=9770973\n",
      "251 추가성공\n",
      "252 https://www.assembly.go.kr/assm/memPop/memPopup.do?dept_cd=9771156\n",
      "252 추가성공\n",
      "253 https://www.assembly.go.kr/assm/memPop/memPopup.do?dept_cd=9770990\n",
      "253 추가성공\n",
      "254 https://www.assembly.go.kr/assm/memPop/memPopup.do?dept_cd=9770456\n",
      "254 추가성공\n",
      "255 https://www.assembly.go.kr/assm/memPop/memPopup.do?dept_cd=9771262\n",
      "255 추가성공\n",
      "256 https://www.assembly.go.kr/assm/memPop/memPopup.do?dept_cd=9771244\n",
      "256 추가성공\n",
      "257 https://www.assembly.go.kr/assm/memPop/memPopup.do?dept_cd=9771235\n",
      "257 추가성공\n",
      "258 https://www.assembly.go.kr/assm/memPop/memPopup.do?dept_cd=9771215\n",
      "258 추가성공\n",
      "259 https://www.assembly.go.kr/assm/memPop/memPopup.do?dept_cd=9770883\n",
      "259 추가성공\n",
      "260 https://www.assembly.go.kr/assm/memPop/memPopup.do?dept_cd=9771250\n",
      "260 추가성공\n",
      "261 https://www.assembly.go.kr/assm/memPop/memPopup.do?dept_cd=9770852\n",
      "261 추가성공\n",
      "262 https://www.assembly.go.kr/assm/memPop/memPopup.do?dept_cd=9771117\n",
      "262 추가성공\n",
      "263 https://www.assembly.go.kr/assm/memPop/memPopup.do?dept_cd=9771112\n",
      "263 추가성공\n",
      "264 https://www.assembly.go.kr/assm/memPop/memPopup.do?dept_cd=9771282\n",
      "264 추가성공\n",
      "265 https://www.assembly.go.kr/assm/memPop/memPopup.do?dept_cd=9771119\n",
      "265 추가성공\n",
      "266 https://www.assembly.go.kr/assm/memPop/memPopup.do?dept_cd=9771252\n",
      "266 추가성공\n",
      "267 https://www.assembly.go.kr/assm/memPop/memPopup.do?dept_cd=9771279\n",
      "267 추가성공\n",
      "268 https://www.assembly.go.kr/assm/memPop/memPopup.do?dept_cd=9770952\n",
      "268 추가성공\n",
      "269 https://www.assembly.go.kr/assm/memPop/memPopup.do?dept_cd=9771188\n",
      "269 추가성공\n",
      "270 https://www.assembly.go.kr/assm/memPop/memPopup.do?dept_cd=9771194\n",
      "270 추가성공\n",
      "271 https://www.assembly.go.kr/assm/memPop/memPopup.do?dept_cd=9771231\n",
      "271 추가성공\n",
      "272 https://www.assembly.go.kr/assm/memPop/memPopup.do?dept_cd=9771267\n",
      "272 추가성공\n",
      "273 https://www.assembly.go.kr/assm/memPop/memPopup.do?dept_cd=9770962\n",
      "273 추가성공\n",
      "274 https://www.assembly.go.kr/assm/memPop/memPopup.do?dept_cd=9771286\n",
      "274 추가성공\n",
      "275 https://www.assembly.go.kr/assm/memPop/memPopup.do?dept_cd=9771234\n",
      "275 추가성공\n",
      "276 https://www.assembly.go.kr/assm/memPop/memPopup.do?dept_cd=9770858\n",
      "276 추가성공\n",
      "277 https://www.assembly.go.kr/assm/memPop/memPopup.do?dept_cd=9771197\n",
      "277 추가성공\n",
      "278 https://www.assembly.go.kr/assm/memPop/memPopup.do?dept_cd=9771241\n",
      "278 추가성공\n",
      "279 https://www.assembly.go.kr/assm/memPop/memPopup.do?dept_cd=9771211\n",
      "279 추가성공\n",
      "280 https://www.assembly.go.kr/assm/memPop/memPopup.do?dept_cd=9770859\n",
      "280 추가성공\n",
      "281 https://www.assembly.go.kr/assm/memPop/memPopup.do?dept_cd=9771182\n",
      "281 추가성공\n",
      "282 https://www.assembly.go.kr/assm/memPop/memPopup.do?dept_cd=9771196\n",
      "282 추가성공\n",
      "283 https://www.assembly.go.kr/assm/memPop/memPopup.do?dept_cd=9771256\n",
      "283 추가성공\n",
      "284 https://www.assembly.go.kr/assm/memPop/memPopup.do?dept_cd=9771149\n",
      "284 추가성공\n",
      "285 https://www.assembly.go.kr/assm/memPop/memPopup.do?dept_cd=9771179\n",
      "285 추가성공\n",
      "286 https://www.assembly.go.kr/assm/memPop/memPopup.do?dept_cd=9770886\n",
      "286 추가성공\n",
      "287 https://www.assembly.go.kr/assm/memPop/memPopup.do?dept_cd=9771146\n",
      "287 추가성공\n",
      "288 https://www.assembly.go.kr/assm/memPop/memPopup.do?dept_cd=9771167\n",
      "288 추가성공\n",
      "289 https://www.assembly.go.kr/assm/memPop/memPopup.do?dept_cd=9770676\n",
      "289 추가성공\n",
      "290 https://www.assembly.go.kr/assm/memPop/memPopup.do?dept_cd=9770864\n",
      "290 추가성공\n",
      "291 https://www.assembly.go.kr/assm/memPop/memPopup.do?dept_cd=9771183\n",
      "291 추가성공\n",
      "292 https://www.assembly.go.kr/assm/memPop/memPopup.do?dept_cd=9771145\n",
      "292 추가성공\n",
      "293 https://www.assembly.go.kr/assm/memPop/memPopup.do?dept_cd=9771130\n",
      "293 추가성공\n",
      "294 https://www.assembly.go.kr/assm/memPop/memPopup.do?dept_cd=9771161\n",
      "294 추가성공\n",
      "295 https://www.assembly.go.kr/assm/memPop/memPopup.do?dept_cd=9770936\n",
      "295 추가성공\n",
      "295\n",
      "----끝----\n"
     ]
    }
   ],
   "source": [
    "import requests\n",
    "from bs4 import BeautifulSoup\n",
    "import re\n",
    "from urllib.parse import urljoin\n",
    "\n",
    "member_detail_list=[]\n",
    "for idx,mem_id in enumerate(member_id_list,1):\n",
    "    detail_url = f\"https://www.assembly.go.kr/assm/memPop/memPopup.do?dept_cd={mem_id}\"\n",
    "    res = requests.get(detail_url)\n",
    "    print(idx,detail_url)\n",
    "    if res.ok:\n",
    "        soup = BeautifulSoup(res.text,'html.parser')\n",
    "        member_detail_dict={}\n",
    "        # print(len(soup.select('dl.pro_detail dt')))\n",
    "        # print(len(soup.select('dl.pro_detail dd')))\n",
    "\n",
    "        dt_list = [dt_tag.text for dt_tag in soup.select('dl.pro_detail dt')]\n",
    "        # print(dt_list)\n",
    "        dd_list=[]\n",
    "        for dd_tag in soup.select('dl.pro_detail dd'):\n",
    "            pattern = re.compile(\"[\\n\\r\\t]\")\n",
    "            dd_text = pattern.sub('',dd_tag.text).replace(\" \", \"\")\n",
    "            dd_list.append(dd_text)\n",
    "        # print(dd_list)\n",
    "        member_detail_dict = dict(zip(dt_list, dd_list))\n",
    "        # print(member_detail_dict)\n",
    "\n",
    "        for div_tag in soup.select(\"div.profile\"):\n",
    "            member_detail_dict['이름'] = div_tag.find('h4').text\n",
    "            img_tag_list = div_tag.select('img')\n",
    "            if img_tag_list:\n",
    "                member_detail_dict['이미지']=urljoin(detail_url,img_tag_list[0]['src'])\n",
    "\n",
    "            member_detail_dict['생년월일'] = div_tag.select_one('li:nth-of-type(4)').text\n",
    "        # print(member_detail_dict)\n",
    "        member_detail_list.append(member_detail_dict)\n",
    "        print(idx,'추가성공')\n",
    "\n",
    "print(len(member_detail_list))\n",
    "print('----끝----')"
   ],
   "metadata": {
    "collapsed": false,
    "pycharm": {
     "name": "#%%\n"
    }
   }
  },
  {
   "cell_type": "code",
   "execution_count": 28,
   "outputs": [],
   "source": [
    "import json\n",
    "\n",
    "with open('../data/member.json','w') as file:\n",
    "    json.dump(member_detail_list,file)"
   ],
   "metadata": {
    "collapsed": false,
    "pycharm": {
     "name": "#%%\n"
    }
   }
  },
  {
   "cell_type": "code",
   "execution_count": 1,
   "outputs": [
    {
     "name": "stdout",
     "output_type": "stream",
     "text": [
      "(295, 16)\n"
     ]
    }
   ],
   "source": [
    "import pandas as pd\n",
    "\n",
    "member_df = pd.read_json('../data/member.json')\n",
    "print(member_df.shape)"
   ],
   "metadata": {
    "collapsed": false,
    "pycharm": {
     "name": "#%%\n"
    }
   }
  },
  {
   "cell_type": "code",
   "execution_count": 8,
   "outputs": [
    {
     "name": "stdout",
     "output_type": "stream",
     "text": [
      "초선    149\n",
      "재선     72\n",
      "3선     42\n",
      "4선     19\n",
      "5선     12\n",
      "6선      1\n",
      "Name: 당선횟수2, dtype: int64\n"
     ]
    }
   ],
   "source": [
    "# member_df.head(2)\n",
    "# member_df.info()\n",
    "# member_df['정당'].unique()\n",
    "temp_str = member_df['당선횟수'].str\n",
    "member_df['당선횟수2']=temp_str[:2]\n",
    "member_df.loc[0:2,['당선횟수','당선횟수2']]\n",
    "print(member_df['당선횟수2'].value_counts())"
   ],
   "metadata": {
    "collapsed": false,
    "pycharm": {
     "name": "#%%\n"
    }
   }
  },
  {
   "cell_type": "code",
   "execution_count": 9,
   "outputs": [
    {
     "data": {
      "text/plain": "     정당    선거구 소속위원회                         당선횟수        사무실 전화    사무실 호실  \\\n91  무소속  대전서구갑        6선(16대,17대,18대,19대,20대,21대)  02-6788-6461  의원회관804호   \n\n   홈페이지                이메일      보좌관      비서관                   비서 취미, 특기  \\\n91       pbs2100@gmail.com  박승규,송석근  김민숙,좌승택  이영해,조연길,최지연,임규보,이초롱          \n\n   의원실 안내   이름                                           이미지        생년월일 당선횟수2  \n91         박병석  https://www.assembly.go.kr/photo/9770090.jpg  1952-01-25    6선  ",
      "text/html": "<div>\n<style scoped>\n    .dataframe tbody tr th:only-of-type {\n        vertical-align: middle;\n    }\n\n    .dataframe tbody tr th {\n        vertical-align: top;\n    }\n\n    .dataframe thead th {\n        text-align: right;\n    }\n</style>\n<table border=\"1\" class=\"dataframe\">\n  <thead>\n    <tr style=\"text-align: right;\">\n      <th></th>\n      <th>정당</th>\n      <th>선거구</th>\n      <th>소속위원회</th>\n      <th>당선횟수</th>\n      <th>사무실 전화</th>\n      <th>사무실 호실</th>\n      <th>홈페이지</th>\n      <th>이메일</th>\n      <th>보좌관</th>\n      <th>비서관</th>\n      <th>비서</th>\n      <th>취미, 특기</th>\n      <th>의원실 안내</th>\n      <th>이름</th>\n      <th>이미지</th>\n      <th>생년월일</th>\n      <th>당선횟수2</th>\n    </tr>\n  </thead>\n  <tbody>\n    <tr>\n      <th>91</th>\n      <td>무소속</td>\n      <td>대전서구갑</td>\n      <td></td>\n      <td>6선(16대,17대,18대,19대,20대,21대)</td>\n      <td>02-6788-6461</td>\n      <td>의원회관804호</td>\n      <td></td>\n      <td>pbs2100@gmail.com</td>\n      <td>박승규,송석근</td>\n      <td>김민숙,좌승택</td>\n      <td>이영해,조연길,최지연,임규보,이초롱</td>\n      <td></td>\n      <td></td>\n      <td>박병석</td>\n      <td>https://www.assembly.go.kr/photo/9770090.jpg</td>\n      <td>1952-01-25</td>\n      <td>6선</td>\n    </tr>\n  </tbody>\n</table>\n</div>"
     },
     "execution_count": 9,
     "metadata": {},
     "output_type": "execute_result"
    }
   ],
   "source": [
    "member_df.loc[member_df['당선횟수2']=='6선']"
   ],
   "metadata": {
    "collapsed": false,
    "pycharm": {
     "name": "#%%\n"
    }
   }
  },
  {
   "cell_type": "code",
   "execution_count": 10,
   "outputs": [
    {
     "name": "stdout",
     "output_type": "stream",
     "text": [
      "경기    0.196610\n",
      "비례    0.159322\n",
      "서울    0.159322\n",
      "부산    0.061017\n",
      "경남    0.054237\n",
      "경북    0.044068\n",
      "인천    0.044068\n",
      "충남    0.037288\n",
      "대구    0.037288\n",
      "전북    0.033898\n",
      "전남    0.033898\n",
      "광주    0.027119\n",
      "강원    0.027119\n",
      "충북    0.023729\n",
      "대전    0.023729\n",
      "울산    0.020339\n",
      "제주    0.010169\n",
      "세종    0.006780\n",
      "Name: 선거구2, dtype: float64\n"
     ]
    }
   ],
   "source": [
    "temp_str = member_df['선거구'].str\n",
    "member_df['선거구2']=temp_str[:2]\n",
    "print(member_df['선거구2'].value_counts(normalize=True))"
   ],
   "metadata": {
    "collapsed": false,
    "pycharm": {
     "name": "#%%\n"
    }
   }
  },
  {
   "cell_type": "code",
   "execution_count": 11,
   "outputs": [
    {
     "data": {
      "text/plain": "     정당   선거구                                              소속위원회     당선횟수  \\\n79  정의당  비례대표  산업통상자원중소벤처기업위원회,윤리특별위원회,감사원장(최재해)임명동의에관한인사청문특별위원회  초선(21대)   \n\n         사무실 전화    사무실 호실                   홈페이지                  이메일  \\\n79  02-784-9740  의원회관513호  http://ryuhojeong.com  help@ryuhojeong.com   \n\n        보좌관      비서관  ... 취미, 특기 의원실 안내   이름  \\\n79  양호영,염종운  최강연,황윤영  ...     게임         류호정   \n\n                                             이미지        생년월일 당선횟수2 선거구2  year  \\\n79  https://www.assembly.go.kr/photo/9771274.jpg  1992-08-09    초선   비례  1992   \n\n    month  day  \n79      8    9  \n\n[1 rows x 21 columns]",
      "text/html": "<div>\n<style scoped>\n    .dataframe tbody tr th:only-of-type {\n        vertical-align: middle;\n    }\n\n    .dataframe tbody tr th {\n        vertical-align: top;\n    }\n\n    .dataframe thead th {\n        text-align: right;\n    }\n</style>\n<table border=\"1\" class=\"dataframe\">\n  <thead>\n    <tr style=\"text-align: right;\">\n      <th></th>\n      <th>정당</th>\n      <th>선거구</th>\n      <th>소속위원회</th>\n      <th>당선횟수</th>\n      <th>사무실 전화</th>\n      <th>사무실 호실</th>\n      <th>홈페이지</th>\n      <th>이메일</th>\n      <th>보좌관</th>\n      <th>비서관</th>\n      <th>...</th>\n      <th>취미, 특기</th>\n      <th>의원실 안내</th>\n      <th>이름</th>\n      <th>이미지</th>\n      <th>생년월일</th>\n      <th>당선횟수2</th>\n      <th>선거구2</th>\n      <th>year</th>\n      <th>month</th>\n      <th>day</th>\n    </tr>\n  </thead>\n  <tbody>\n    <tr>\n      <th>79</th>\n      <td>정의당</td>\n      <td>비례대표</td>\n      <td>산업통상자원중소벤처기업위원회,윤리특별위원회,감사원장(최재해)임명동의에관한인사청문특별위원회</td>\n      <td>초선(21대)</td>\n      <td>02-784-9740</td>\n      <td>의원회관513호</td>\n      <td>http://ryuhojeong.com</td>\n      <td>help@ryuhojeong.com</td>\n      <td>양호영,염종운</td>\n      <td>최강연,황윤영</td>\n      <td>...</td>\n      <td>게임</td>\n      <td></td>\n      <td>류호정</td>\n      <td>https://www.assembly.go.kr/photo/9771274.jpg</td>\n      <td>1992-08-09</td>\n      <td>초선</td>\n      <td>비례</td>\n      <td>1992</td>\n      <td>8</td>\n      <td>9</td>\n    </tr>\n  </tbody>\n</table>\n<p>1 rows × 21 columns</p>\n</div>"
     },
     "execution_count": 11,
     "metadata": {},
     "output_type": "execute_result"
    }
   ],
   "source": [
    "member_df['year']=pd.DatetimeIndex(member_df['생년월일']).year\n",
    "member_df['month']=pd.DatetimeIndex(member_df['생년월일']).month\n",
    "member_df['day']=pd.DatetimeIndex(member_df['생년월일']).day\n",
    "\n",
    "member_df.loc[0:3, ['year','month','day']]\n",
    "# member_df.sort_values(by='year', ascending=False)\n",
    "member_df.loc[member_df['year'] == member_df['year'].max()]"
   ],
   "metadata": {
    "collapsed": false,
    "pycharm": {
     "name": "#%%\n"
    }
   }
  },
  {
   "cell_type": "code",
   "execution_count": 12,
   "outputs": [
    {
     "data": {
      "text/plain": "24"
     },
     "execution_count": 12,
     "metadata": {},
     "output_type": "execute_result"
    }
   ],
   "source": [
    "from datetime import date\n",
    "def calc_age(birth):\n",
    "    today = date.today()\n",
    "    age = today.year-birth.year - ((today.month, today.day) < (birth.month,birth.day))\n",
    "    return age\n",
    "calc_age(date(1997,8,6))"
   ],
   "metadata": {
    "collapsed": false,
    "pycharm": {
     "name": "#%%\n"
    }
   }
  },
  {
   "cell_type": "code",
   "execution_count": 13,
   "outputs": [],
   "source": [
    "age_list = []\n",
    "for idx, row in member_df.iterrows():\n",
    "    # print(idx, type(row), row['year'])\n",
    "    cur_age = calc_age(date(row['year'],row['month'],row['day']))\n",
    "    # print(cur_age)\n",
    "    age_list.append(cur_age)\n",
    "member_df['나이']=age_list"
   ],
   "metadata": {
    "collapsed": false,
    "pycharm": {
     "name": "#%%\n"
    }
   }
  },
  {
   "cell_type": "code",
   "execution_count": 14,
   "outputs": [
    {
     "data": {
      "text/plain": "Index(['정당', '선거구', '소속위원회', '당선횟수', '사무실 전화', '사무실 호실', '홈페이지', '이메일', '보좌관',\n       '비서관', '비서', '취미, 특기', '의원실 안내', '이름', '이미지', '생년월일', '당선횟수2', '선거구2',\n       'year', 'month', 'day', '나이'],\n      dtype='object')"
     },
     "execution_count": 14,
     "metadata": {},
     "output_type": "execute_result"
    }
   ],
   "source": [
    "# member_df[['생년월일','나이']].head()\n",
    "# member_df['나이'].describe()\n",
    "member_df.columns"
   ],
   "metadata": {
    "collapsed": false,
    "pycharm": {
     "name": "#%%\n"
    }
   }
  },
  {
   "cell_type": "code",
   "execution_count": 15,
   "outputs": [
    {
     "data": {
      "text/plain": "290    https://www.assembly.go.kr/photo/9771183.jpg\n291    https://www.assembly.go.kr/photo/9771145.jpg\n292    https://www.assembly.go.kr/photo/9771130.jpg\n293    https://www.assembly.go.kr/photo/9771161.jpg\n294    https://www.assembly.go.kr/photo/9770936.jpg\nName: 이미지, dtype: object"
     },
     "execution_count": 15,
     "metadata": {},
     "output_type": "execute_result"
    }
   ],
   "source": [
    "member_df['이미지'].tail()"
   ],
   "metadata": {
    "collapsed": false,
    "pycharm": {
     "name": "#%%\n"
    }
   }
  },
  {
   "cell_type": "code",
   "execution_count": 16,
   "outputs": [
    {
     "name": "stdout",
     "output_type": "stream",
     "text": [
      "https://www.assembly.go.kr/photo/9771202.jpg\n",
      "https://www.assembly.go.kr/photo/9771197.jpg\n"
     ]
    }
   ],
   "source": [
    "from IPython.display import Image, display\n",
    "\n",
    "for img_url in member_df['이미지'].sample(2):\n",
    "    print(img_url)\n",
    "    # display(Image(url=img_url))"
   ],
   "metadata": {
    "collapsed": false,
    "pycharm": {
     "name": "#%%\n"
    }
   }
  },
  {
   "cell_type": "code",
   "execution_count": 17,
   "outputs": [],
   "source": [
    "import matplotlib\n",
    "import matplotlib.pyplot as plt\n",
    "import matplotlib.font_manager as fm\n",
    "\n",
    "import seaborn as sns"
   ],
   "metadata": {
    "collapsed": false,
    "pycharm": {
     "name": "#%%\n"
    }
   }
  },
  {
   "cell_type": "code",
   "execution_count": 18,
   "outputs": [
    {
     "name": "stdout",
     "output_type": "stream",
     "text": [
      "Malgun Gothic\n"
     ]
    }
   ],
   "source": [
    "font_path = 'C:\\\\Windows\\\\Fonts\\\\malgun.ttf'\n",
    "font_prop = fm.FontProperties(fname=font_path).get_name()\n",
    "print(font_prop)\n",
    "matplotlib.rc('font',family = font_prop)"
   ],
   "metadata": {
    "collapsed": false,
    "pycharm": {
     "name": "#%%\n"
    }
   }
  },
  {
   "cell_type": "code",
   "execution_count": 19,
   "outputs": [
    {
     "data": {
      "text/plain": "Index(['더불어민주당', '국민의힘', '정의당', '무소속', '국민의당', '기본소득당', '시대전환'], dtype='object')"
     },
     "execution_count": 19,
     "metadata": {},
     "output_type": "execute_result"
    }
   ],
   "source": [
    "member_df['정당'].value_counts().index"
   ],
   "metadata": {
    "collapsed": false,
    "pycharm": {
     "name": "#%%\n"
    }
   }
  },
  {
   "cell_type": "code",
   "execution_count": 20,
   "outputs": [
    {
     "data": {
      "text/plain": "<AxesSubplot:xlabel='당선횟수2', ylabel='count'>"
     },
     "execution_count": 20,
     "metadata": {},
     "output_type": "execute_result"
    },
    {
     "data": {
      "text/plain": "<Figure size 1296x864 with 2 Axes>",
      "image/png": "[encoded data removed]"
     },
     "metadata": {
      "needs_background": "light"
     },
     "output_type": "display_data"
    }
   ],
   "source": [
    "figure,(axes1, axes2)=plt.subplots(nrows=2, ncols=1)\n",
    "figure.set_size_inches(18,12)\n",
    "\n",
    "sns.countplot(data=member_df, x='정당',ax=axes1, order=member_df['정당'].value_counts().index)\n",
    "sns.countplot(data=member_df, x='당선횟수2',ax=axes2, order=member_df['당선횟수2'].value_counts().index)"
   ],
   "metadata": {
    "collapsed": false,
    "pycharm": {
     "name": "#%%\n"
    }
   }
  },
  {
   "cell_type": "code",
   "execution_count": 25,
   "outputs": [
    {
     "data": {
      "text/plain": "<AxesSubplot:xlabel='count', ylabel='선거구2'>"
     },
     "execution_count": 25,
     "metadata": {},
     "output_type": "execute_result"
    },
    {
     "data": {
      "text/plain": "<Figure size 1296x864 with 1 Axes>",
      "image/png": "[encoded data removed]"
     },
     "metadata": {
      "needs_background": "light"
     },
     "output_type": "display_data"
    }
   ],
   "source": [
    "figure, axes1=plt.subplots(nrows=1, ncols=1)\n",
    "figure.set_size_inches(18,12)\n",
    "sns.countplot(data=member_df,y='선거구2',ax=axes1, order=member_df['선거구2'].value_counts().index)"
   ],
   "metadata": {
    "collapsed": false,
    "pycharm": {
     "name": "#%%\n"
    }
   }
  },
  {
   "cell_type": "code",
   "execution_count": 27,
   "outputs": [
    {
     "data": {
      "text/plain": "<AxesSubplot:xlabel='정당', ylabel='나이'>"
     },
     "execution_count": 27,
     "metadata": {},
     "output_type": "execute_result"
    },
    {
     "data": {
      "text/plain": "<Figure size 1296x864 with 2 Axes>",
      "image/png": "[encoded data removed]"
     },
     "metadata": {
      "needs_background": "light"
     },
     "output_type": "display_data"
    }
   ],
   "source": [
    "figure,(axes1, axes2)=plt.subplots(nrows=2, ncols=1)\n",
    "figure.set_size_inches(18,12)\n",
    "\n",
    "sns.scatterplot(data= member_df, x='선거구2',y='나이',ax=axes1)\n",
    "sns.scatterplot(data= member_df, x='정당',y='나이',ax=axes2)"
   ],
   "metadata": {
    "collapsed": false,
    "pycharm": {
     "name": "#%%\n"
    }
   }
  },
  {
   "cell_type": "code",
   "execution_count": 28,
   "outputs": [
    {
     "name": "stderr",
     "output_type": "stream",
     "text": [
      "C:\\Users\\bgr\\anaconda3\\lib\\site-packages\\seaborn\\distributions.py:2619: FutureWarning: `distplot` is a deprecated function and will be removed in a future version. Please adapt your code to use either `displot` (a figure-level function with similar flexibility) or `histplot` (an axes-level function for histograms).\n",
      "  warnings.warn(msg, FutureWarning)\n"
     ]
    },
    {
     "data": {
      "text/plain": "<AxesSubplot:xlabel='나이', ylabel='Density'>"
     },
     "execution_count": 28,
     "metadata": {},
     "output_type": "execute_result"
    },
    {
     "data": {
      "text/plain": "<Figure size 1296x864 with 1 Axes>",
      "image/png": "[encoded data removed]"
     },
     "metadata": {
      "needs_background": "light"
     },
     "output_type": "display_data"
    }
   ],
   "source": [
    "figure, axes1=plt.subplots(nrows=1, ncols=1)\n",
    "figure.set_size_inches(18,12)\n",
    "\n",
    "sns.distplot(member_df['나이'],ax=axes1)"
   ],
   "metadata": {
    "collapsed": false,
    "pycharm": {
     "name": "#%%\n"
    }
   }
  },
  {
   "cell_type": "code",
   "execution_count": null,
   "outputs": [],
   "source": [
    "print(\"브랜치 테스트\")\n",
    "print(\"main commit\")"
   ],
   "metadata": {
    "collapsed": false,
    "pycharm": {
     "name": "#%%\n"
    }
   }
  }
 ],
 "metadata": {
  "kernelspec": {
   "display_name": "Python 3",
   "language": "python",
   "name": "python3"
  },
  "language_info": {
   "codemirror_mode": {
    "name": "ipython",
    "version": 2
   },
   "file_extension": ".py",
   "mimetype": "text/x-python",
   "name": "python",
   "nbconvert_exporter": "python",
   "pygments_lexer": "ipython2",
   "version": "2.7.6"
  }
 },
 "nbformat": 4,
 "nbformat_minor": 0
}