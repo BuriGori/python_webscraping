{
 "cells": [
  {
   "cell_type": "markdown",
   "id": "6842ee1b-1590-4b0e-9f8f-9f35aa9bbc0b",
   "metadata": {},
   "source": [
    "### 웹툰 이미지를 다운로드하여 로컬에 저장하기"
   ]
  },
  {
   "cell_type": "code",
   "execution_count": 15,
   "id": "3bc0ed94-4a93-41f1-8a8c-1a5513350fa0",
   "metadata": {},
   "outputs": [
    {
     "name": "stdout",
     "output_type": "stream",
     "text": [
      "200\n",
      "Write to file data/20220113151757_90bb11af8a341a8bf8a8558fb3d3c121_IMAG01_1.jpg (162,066) bytes\n",
      "200\n",
      "Write to file data/20220113151757_90bb11af8a341a8bf8a8558fb3d3c121_IMAG01_2.jpg (215,640) bytes\n",
      "200\n",
      "Write to file data/20220113151757_90bb11af8a341a8bf8a8558fb3d3c121_IMAG01_3.jpg (212,535) bytes\n"
     ]
    }
   ],
   "source": [
    "import requests\n",
    "import os\n",
    "\n",
    "req_header_dict = {\n",
    "    'referer':'https://comic.naver.com/webtoon/detail?titleId=552960&no=410&amp;weekday=fri'\n",
    "}\n",
    "\n",
    "img_url_list = [\n",
    "    'https://image-comic.pstatic.net/webtoon/552960/410/20220113151757_90bb11af8a341a8bf8a8558fb3d3c121_IMAG01_1.jpg',\n",
    "    'https://image-comic.pstatic.net/webtoon/552960/410/20220113151757_90bb11af8a341a8bf8a8558fb3d3c121_IMAG01_2.jpg',\n",
    "    'https://image-comic.pstatic.net/webtoon/552960/410/20220113151757_90bb11af8a341a8bf8a8558fb3d3c121_IMAG01_3.jpg'\n",
    "]\n",
    "\n",
    "for img_url in img_url_list:\n",
    "    res = requests.get(img_url, headers=req_header_dict)\n",
    "    print(res.status_code)\n",
    "    if res.ok:\n",
    "        # binary data 가져올때 .content 속성사용\n",
    "        img_data = res.content\n",
    "        # url에서 파일명만 추출하기\n",
    "        file_name = os.path.basename(img_url)\n",
    "        file_name = 'data/' + file_name \n",
    "        \n",
    "        # 서버에서 가져온 binary data를 file로 저장하기\n",
    "        with open(file_name, 'wb') as file:\n",
    "            print(f'Write to file {file_name} ({len(img_data):,}) bytes')\n",
    "            file.write(img_data)      "
   ]
  },
  {
   "cell_type": "markdown",
   "id": "527fb4e2-3959-4594-940a-d96c86956da2",
   "metadata": {},
   "source": [
    "### 웹툰의 특정회차의 모든 image 다운로드 하기\n",
    "* Attribute Selector를 사용하여 jpg 파일명들을 모두 추출하여 리스트에 저장하기"
   ]
  },
  {
   "cell_type": "code",
   "execution_count": 25,
   "id": "b3570761-164d-40e0-b0c2-f399ff4ee20f",
   "metadata": {},
   "outputs": [
    {
     "name": "stdout",
     "output_type": "stream",
     "text": [
      "72 <class 'bs4.element.ResultSet'>\n",
      "72\n",
      "['https://shared-comic.pstatic.net/thumb/webtoon/764040/thumbnail/thumbnail_IMAG04_8afc9026-2558-49e9-b675-93381d9ef009.jpg', 'https://image-comic.pstatic.net/webtoon/764040/54/20220127142619_b148e6dfbf0f74b0c384744f9e46035c_IMAG01_1.jpg', 'https://image-comic.pstatic.net/webtoon/764040/54/20220127142619_b148e6dfbf0f74b0c384744f9e46035c_IMAG01_2.jpg', 'https://image-comic.pstatic.net/webtoon/764040/54/20220127142619_b148e6dfbf0f74b0c384744f9e46035c_IMAG01_3.jpg']\n"
     ]
    }
   ],
   "source": [
    "import requests\n",
    "from bs4 import BeautifulSoup\n",
    "\n",
    "main_url = 'https://comic.naver.com/webtoon/detail?titleId=764040&no=54&weekday=fri'\n",
    "res = requests.get(main_url)\n",
    "\n",
    "if res.ok:\n",
    "    soup = BeautifulSoup(res.text, 'html.parser')\n",
    "    img_tags = soup.select(\"img[src$='.jpg']\") \n",
    "    print( len(img_tags), type(img_tags) )\n",
    "    \n",
    "    img_url_list = []\n",
    "    for img_tag in img_tags:\n",
    "        #print(type(img_tag), img_tag)\n",
    "        img_url = img_tag['src']\n",
    "        img_url_list.append(img_url)\n",
    "\n",
    "print(len(img_url_list))\n",
    "print(img_url_list[:4])"
   ]
  },
  {
   "cell_type": "code",
   "execution_count": 27,
   "id": "a09789b4-0995-4309-8f75-3fc9e1b2a54e",
   "metadata": {},
   "outputs": [],
   "source": [
    "# img 디렉토리 생성하기\n",
    "import os\n",
    "\n",
    "dir_path = 'img'\n",
    "\n",
    "#img 디렉토리가 없으면\n",
    "if not os.path.isdir(dir_path):\n",
    "    os.mkdir(dir_path)"
   ]
  },
  {
   "cell_type": "markdown",
   "id": "034c43c2-9ab4-42fe-ae65-02de681cc9eb",
   "metadata": {},
   "source": [
    "* 리스트를 순회하면서 image 다운로드 하기"
   ]
  },
  {
   "cell_type": "code",
   "execution_count": 1,
   "id": "c9d049e3-88eb-45d8-93a2-53f90f319736",
   "metadata": {},
   "outputs": [
    {
     "ename": "NameError",
     "evalue": "name 'img_url_list' is not defined",
     "output_type": "error",
     "traceback": [
      "\u001B[1;31m---------------------------------------------------------------------------\u001B[0m",
      "\u001B[1;31mNameError\u001B[0m                                 Traceback (most recent call last)",
      "\u001B[1;32m~\\AppData\\Local\\Temp/ipykernel_10692/2599904036.py\u001B[0m in \u001B[0;36m<module>\u001B[1;34m\u001B[0m\n\u001B[1;32m----> 1\u001B[1;33m \u001B[1;32mfor\u001B[0m \u001B[0midx\u001B[0m\u001B[1;33m,\u001B[0m \u001B[0mimg_url\u001B[0m \u001B[1;32min\u001B[0m \u001B[0menumerate\u001B[0m\u001B[1;33m(\u001B[0m\u001B[0mimg_url_list\u001B[0m\u001B[1;33m,\u001B[0m \u001B[1;36m1\u001B[0m\u001B[1;33m)\u001B[0m\u001B[1;33m:\u001B[0m\u001B[1;33m\u001B[0m\u001B[1;33m\u001B[0m\u001B[0m\n\u001B[0m\u001B[0;32m      2\u001B[0m     \u001B[0mprint\u001B[0m\u001B[1;33m(\u001B[0m\u001B[1;34mf'다운로드 번호 {idx} URL = {img_url}'\u001B[0m\u001B[1;33m)\u001B[0m\u001B[1;33m\u001B[0m\u001B[1;33m\u001B[0m\u001B[0m\n\u001B[0;32m      3\u001B[0m     \u001B[0mreq_header\u001B[0m \u001B[1;33m=\u001B[0m \u001B[1;33m{\u001B[0m\u001B[1;34m'referer'\u001B[0m\u001B[1;33m:\u001B[0m\u001B[0mmain_url\u001B[0m\u001B[1;33m}\u001B[0m\u001B[1;33m\u001B[0m\u001B[1;33m\u001B[0m\u001B[0m\n\u001B[0;32m      4\u001B[0m     \u001B[0mres\u001B[0m \u001B[1;33m=\u001B[0m \u001B[0mrequests\u001B[0m\u001B[1;33m.\u001B[0m\u001B[0mget\u001B[0m\u001B[1;33m(\u001B[0m\u001B[0mimg_url\u001B[0m\u001B[1;33m,\u001B[0m \u001B[0mheaders\u001B[0m\u001B[1;33m=\u001B[0m\u001B[0mreq_header\u001B[0m\u001B[1;33m)\u001B[0m\u001B[1;33m\u001B[0m\u001B[1;33m\u001B[0m\u001B[0m\n\u001B[0;32m      5\u001B[0m     \u001B[1;32mif\u001B[0m \u001B[0mres\u001B[0m\u001B[1;33m.\u001B[0m\u001B[0mok\u001B[0m\u001B[1;33m:\u001B[0m\u001B[1;33m\u001B[0m\u001B[1;33m\u001B[0m\u001B[0m\n",
      "\u001B[1;31mNameError\u001B[0m: name 'img_url_list' is not defined"
     ]
    }
   ],
   "source": [
    "for idx, img_url in enumerate(img_url_list, 1):\n",
    "    print(f'다운로드 번호 {idx} URL = {img_url}')\n",
    "    req_header = {'referer':main_url}\n",
    "    res = requests.get(img_url, headers=req_header)\n",
    "    if res.ok:\n",
    "        img_data = res.content\n",
    "        file_name = os.path.basename(img_url)\n",
    "        file_name = 'image/' + file_name\n",
    "        with open(file_name, 'wb') as file:\n",
    "            file.write(img_data)"
   ]
  },
  {
   "cell_type": "code",
   "execution_count": null,
   "outputs": [],
   "source": [],
   "metadata": {
    "collapsed": false,
    "pycharm": {
     "name": "#%%\n"
    }
   }
  }
 ],
 "metadata": {
  "kernelspec": {
   "display_name": "Python 3 (ipykernel)",
   "language": "python",
   "name": "python3"
  },
  "language_info": {
   "codemirror_mode": {
    "name": "ipython",
    "version": 3
   },
   "file_extension": ".py",
   "mimetype": "text/x-python",
   "name": "python",
   "nbconvert_exporter": "python",
   "pygments_lexer": "ipython3",
   "version": "3.9.7"
  }
 },
 "nbformat": 4,
 "nbformat_minor": 5
}